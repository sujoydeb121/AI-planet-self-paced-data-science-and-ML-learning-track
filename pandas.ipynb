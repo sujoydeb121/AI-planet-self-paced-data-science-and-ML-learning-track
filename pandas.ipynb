{
 "cells": [
  {
   "cell_type": "code",
   "execution_count": 1,
   "metadata": {
    "collapsed": true
   },
   "outputs": [],
   "source": [
    "import pandas as pd\n"
   ]
  },
  {
   "cell_type": "code",
   "execution_count": 2,
   "outputs": [],
   "source": [
    "l = [1,2,3,4,2,5,6]"
   ],
   "metadata": {
    "collapsed": false
   }
  },
  {
   "cell_type": "code",
   "execution_count": 3,
   "outputs": [
    {
     "data": {
      "text/plain": "0    1\n1    2\n2    3\n3    4\n4    2\n5    5\n6    6\ndtype: int64"
     },
     "execution_count": 3,
     "metadata": {},
     "output_type": "execute_result"
    }
   ],
   "source": [
    "pd.Series(l)"
   ],
   "metadata": {
    "collapsed": false
   }
  },
  {
   "cell_type": "code",
   "execution_count": 4,
   "outputs": [],
   "source": [
    "l2 = {'one': 1, 2:'two', 'three': 3, 'four': 4}"
   ],
   "metadata": {
    "collapsed": false
   }
  },
  {
   "cell_type": "code",
   "execution_count": 5,
   "outputs": [
    {
     "data": {
      "text/plain": "one        1\n2        two\nthree      3\nfour       4\ndtype: object"
     },
     "execution_count": 5,
     "metadata": {},
     "output_type": "execute_result"
    }
   ],
   "source": [
    "pd.Series(l2)"
   ],
   "metadata": {
    "collapsed": false
   }
  },
  {
   "cell_type": "code",
   "execution_count": 6,
   "outputs": [],
   "source": [
    "data = [\n",
    "    [1000, 'steve', 87.93],\n",
    "    [1001, 'joy', 90],\n",
    "    [1002, 'sujoy', 94.45],\n",
    "    [1003, 'jason', 60.45],\n",
    "    [1004, 'sanju', 73.56]\n",
    "]"
   ],
   "metadata": {
    "collapsed": false
   }
  },
  {
   "cell_type": "code",
   "execution_count": 7,
   "outputs": [],
   "source": [
    "df = pd.DataFrame(data, columns=['Regd. No', 'Name', 'Marks%'])"
   ],
   "metadata": {
    "collapsed": false
   }
  },
  {
   "cell_type": "code",
   "execution_count": 8,
   "outputs": [
    {
     "data": {
      "text/plain": "   Regd. No   Name  Marks%\n0      1000  steve   87.93\n1      1001    joy   90.00\n2      1002  sujoy   94.45\n3      1003  jason   60.45\n4      1004  sanju   73.56",
      "text/html": "<div>\n<style scoped>\n    .dataframe tbody tr th:only-of-type {\n        vertical-align: middle;\n    }\n\n    .dataframe tbody tr th {\n        vertical-align: top;\n    }\n\n    .dataframe thead th {\n        text-align: right;\n    }\n</style>\n<table border=\"1\" class=\"dataframe\">\n  <thead>\n    <tr style=\"text-align: right;\">\n      <th></th>\n      <th>Regd. No</th>\n      <th>Name</th>\n      <th>Marks%</th>\n    </tr>\n  </thead>\n  <tbody>\n    <tr>\n      <th>0</th>\n      <td>1000</td>\n      <td>steve</td>\n      <td>87.93</td>\n    </tr>\n    <tr>\n      <th>1</th>\n      <td>1001</td>\n      <td>joy</td>\n      <td>90.00</td>\n    </tr>\n    <tr>\n      <th>2</th>\n      <td>1002</td>\n      <td>sujoy</td>\n      <td>94.45</td>\n    </tr>\n    <tr>\n      <th>3</th>\n      <td>1003</td>\n      <td>jason</td>\n      <td>60.45</td>\n    </tr>\n    <tr>\n      <th>4</th>\n      <td>1004</td>\n      <td>sanju</td>\n      <td>73.56</td>\n    </tr>\n  </tbody>\n</table>\n</div>"
     },
     "execution_count": 8,
     "metadata": {},
     "output_type": "execute_result"
    }
   ],
   "source": [
    "df"
   ],
   "metadata": {
    "collapsed": false
   }
  },
  {
   "cell_type": "code",
   "execution_count": 9,
   "outputs": [],
   "source": [
    "df = pd.read_csv(\"https://raw.githubusercontent.com/dphi-official/Datasets/master/Standard_Metropolitan_Areas_Data-data.csv\")"
   ],
   "metadata": {
    "collapsed": false
   }
  },
  {
   "cell_type": "code",
   "execution_count": 10,
   "outputs": [
    {
     "data": {
      "text/plain": "    land_area  percent_city  percent_senior  physicians  hospital_beds  \\\n0        1384          78.1            12.3       25627          69678   \n1        3719          43.9             9.4       13326          43292   \n2        3553          37.4            10.7        9724          33731   \n3        3916          29.9             8.8        6402          24167   \n4        2480          31.5            10.5        8502          16751   \n..        ...           ...             ...         ...            ...   \n94       1511          38.7            10.7         348           1093   \n95       1543          39.6             8.1         159            481   \n96       1011          37.8            10.5         264            964   \n97        813          13.4            10.9         371           4355   \n98        654          28.8             3.9         140           1296   \n\n    graduates  work_force  income  region  crime_rate  \n0        50.1      4083.9   72100       1       75.55  \n1        53.9      3305.9   54542       2       56.03  \n2        50.6      2066.3   33216       1       41.32  \n3        52.2      1966.7   32906       2       67.38  \n4        66.1      1514.5   26573       4       80.19  \n..        ...         ...     ...     ...         ...  \n94       50.4       127.2    1452       4       70.66  \n95       30.3        80.6     769       3       36.36  \n96       70.7        93.2    1337       3       60.16  \n97       58.0        97.0    1589       1       36.33  \n98       55.1        66.9    1148       3       68.76  \n\n[99 rows x 10 columns]",
      "text/html": "<div>\n<style scoped>\n    .dataframe tbody tr th:only-of-type {\n        vertical-align: middle;\n    }\n\n    .dataframe tbody tr th {\n        vertical-align: top;\n    }\n\n    .dataframe thead th {\n        text-align: right;\n    }\n</style>\n<table border=\"1\" class=\"dataframe\">\n  <thead>\n    <tr style=\"text-align: right;\">\n      <th></th>\n      <th>land_area</th>\n      <th>percent_city</th>\n      <th>percent_senior</th>\n      <th>physicians</th>\n      <th>hospital_beds</th>\n      <th>graduates</th>\n      <th>work_force</th>\n      <th>income</th>\n      <th>region</th>\n      <th>crime_rate</th>\n    </tr>\n  </thead>\n  <tbody>\n    <tr>\n      <th>0</th>\n      <td>1384</td>\n      <td>78.1</td>\n      <td>12.3</td>\n      <td>25627</td>\n      <td>69678</td>\n      <td>50.1</td>\n      <td>4083.9</td>\n      <td>72100</td>\n      <td>1</td>\n      <td>75.55</td>\n    </tr>\n    <tr>\n      <th>1</th>\n      <td>3719</td>\n      <td>43.9</td>\n      <td>9.4</td>\n      <td>13326</td>\n      <td>43292</td>\n      <td>53.9</td>\n      <td>3305.9</td>\n      <td>54542</td>\n      <td>2</td>\n      <td>56.03</td>\n    </tr>\n    <tr>\n      <th>2</th>\n      <td>3553</td>\n      <td>37.4</td>\n      <td>10.7</td>\n      <td>9724</td>\n      <td>33731</td>\n      <td>50.6</td>\n      <td>2066.3</td>\n      <td>33216</td>\n      <td>1</td>\n      <td>41.32</td>\n    </tr>\n    <tr>\n      <th>3</th>\n      <td>3916</td>\n      <td>29.9</td>\n      <td>8.8</td>\n      <td>6402</td>\n      <td>24167</td>\n      <td>52.2</td>\n      <td>1966.7</td>\n      <td>32906</td>\n      <td>2</td>\n      <td>67.38</td>\n    </tr>\n    <tr>\n      <th>4</th>\n      <td>2480</td>\n      <td>31.5</td>\n      <td>10.5</td>\n      <td>8502</td>\n      <td>16751</td>\n      <td>66.1</td>\n      <td>1514.5</td>\n      <td>26573</td>\n      <td>4</td>\n      <td>80.19</td>\n    </tr>\n    <tr>\n      <th>...</th>\n      <td>...</td>\n      <td>...</td>\n      <td>...</td>\n      <td>...</td>\n      <td>...</td>\n      <td>...</td>\n      <td>...</td>\n      <td>...</td>\n      <td>...</td>\n      <td>...</td>\n    </tr>\n    <tr>\n      <th>94</th>\n      <td>1511</td>\n      <td>38.7</td>\n      <td>10.7</td>\n      <td>348</td>\n      <td>1093</td>\n      <td>50.4</td>\n      <td>127.2</td>\n      <td>1452</td>\n      <td>4</td>\n      <td>70.66</td>\n    </tr>\n    <tr>\n      <th>95</th>\n      <td>1543</td>\n      <td>39.6</td>\n      <td>8.1</td>\n      <td>159</td>\n      <td>481</td>\n      <td>30.3</td>\n      <td>80.6</td>\n      <td>769</td>\n      <td>3</td>\n      <td>36.36</td>\n    </tr>\n    <tr>\n      <th>96</th>\n      <td>1011</td>\n      <td>37.8</td>\n      <td>10.5</td>\n      <td>264</td>\n      <td>964</td>\n      <td>70.7</td>\n      <td>93.2</td>\n      <td>1337</td>\n      <td>3</td>\n      <td>60.16</td>\n    </tr>\n    <tr>\n      <th>97</th>\n      <td>813</td>\n      <td>13.4</td>\n      <td>10.9</td>\n      <td>371</td>\n      <td>4355</td>\n      <td>58.0</td>\n      <td>97.0</td>\n      <td>1589</td>\n      <td>1</td>\n      <td>36.33</td>\n    </tr>\n    <tr>\n      <th>98</th>\n      <td>654</td>\n      <td>28.8</td>\n      <td>3.9</td>\n      <td>140</td>\n      <td>1296</td>\n      <td>55.1</td>\n      <td>66.9</td>\n      <td>1148</td>\n      <td>3</td>\n      <td>68.76</td>\n    </tr>\n  </tbody>\n</table>\n<p>99 rows × 10 columns</p>\n</div>"
     },
     "execution_count": 10,
     "metadata": {},
     "output_type": "execute_result"
    }
   ],
   "source": [
    "df"
   ],
   "metadata": {
    "collapsed": false
   }
  },
  {
   "cell_type": "code",
   "execution_count": 11,
   "outputs": [],
   "source": [
    "exam_scores = pd.read_csv('https://raw.githubusercontent.com/dphi-official/Datasets/master/exam_scores.csv')"
   ],
   "metadata": {
    "collapsed": false
   }
  },
  {
   "cell_type": "code",
   "execution_count": 12,
   "outputs": [
    {
     "data": {
      "text/plain": "(99, 10)"
     },
     "execution_count": 12,
     "metadata": {},
     "output_type": "execute_result"
    }
   ],
   "source": [
    "df.shape"
   ],
   "metadata": {
    "collapsed": false
   }
  },
  {
   "cell_type": "code",
   "execution_count": 13,
   "outputs": [
    {
     "data": {
      "text/plain": "     gender race/ethnicity parental level of education         lunch  \\\n0      male        group B           bachelor's degree      standard   \n1    female        group C                some college      standard   \n2      male        group C                some college  free/reduced   \n3    female        group D           bachelor's degree  free/reduced   \n4      male        group D                some college      standard   \n..      ...            ...                         ...           ...   \n995  female        group C            some high school      standard   \n996  female        group E                some college      standard   \n997  female        group E          associate's degree  free/reduced   \n998  female        group C                 high school      standard   \n999    male        group C                some college  free/reduced   \n\n    test preparation course  math score  reading score  writing score  \n0                      none          74             68             67  \n1                 completed          58             68             66  \n2                      none          66             65             65  \n3                      none          74             75             73  \n4                      none          78             77             71  \n..                      ...         ...            ...            ...  \n995                    none          68             77             72  \n996                    none          98             81             94  \n997                    none          67             67             67  \n998                    none          63             68             70  \n999                    none          49             57             50  \n\n[1000 rows x 8 columns]",
      "text/html": "<div>\n<style scoped>\n    .dataframe tbody tr th:only-of-type {\n        vertical-align: middle;\n    }\n\n    .dataframe tbody tr th {\n        vertical-align: top;\n    }\n\n    .dataframe thead th {\n        text-align: right;\n    }\n</style>\n<table border=\"1\" class=\"dataframe\">\n  <thead>\n    <tr style=\"text-align: right;\">\n      <th></th>\n      <th>gender</th>\n      <th>race/ethnicity</th>\n      <th>parental level of education</th>\n      <th>lunch</th>\n      <th>test preparation course</th>\n      <th>math score</th>\n      <th>reading score</th>\n      <th>writing score</th>\n    </tr>\n  </thead>\n  <tbody>\n    <tr>\n      <th>0</th>\n      <td>male</td>\n      <td>group B</td>\n      <td>bachelor's degree</td>\n      <td>standard</td>\n      <td>none</td>\n      <td>74</td>\n      <td>68</td>\n      <td>67</td>\n    </tr>\n    <tr>\n      <th>1</th>\n      <td>female</td>\n      <td>group C</td>\n      <td>some college</td>\n      <td>standard</td>\n      <td>completed</td>\n      <td>58</td>\n      <td>68</td>\n      <td>66</td>\n    </tr>\n    <tr>\n      <th>2</th>\n      <td>male</td>\n      <td>group C</td>\n      <td>some college</td>\n      <td>free/reduced</td>\n      <td>none</td>\n      <td>66</td>\n      <td>65</td>\n      <td>65</td>\n    </tr>\n    <tr>\n      <th>3</th>\n      <td>female</td>\n      <td>group D</td>\n      <td>bachelor's degree</td>\n      <td>free/reduced</td>\n      <td>none</td>\n      <td>74</td>\n      <td>75</td>\n      <td>73</td>\n    </tr>\n    <tr>\n      <th>4</th>\n      <td>male</td>\n      <td>group D</td>\n      <td>some college</td>\n      <td>standard</td>\n      <td>none</td>\n      <td>78</td>\n      <td>77</td>\n      <td>71</td>\n    </tr>\n    <tr>\n      <th>...</th>\n      <td>...</td>\n      <td>...</td>\n      <td>...</td>\n      <td>...</td>\n      <td>...</td>\n      <td>...</td>\n      <td>...</td>\n      <td>...</td>\n    </tr>\n    <tr>\n      <th>995</th>\n      <td>female</td>\n      <td>group C</td>\n      <td>some high school</td>\n      <td>standard</td>\n      <td>none</td>\n      <td>68</td>\n      <td>77</td>\n      <td>72</td>\n    </tr>\n    <tr>\n      <th>996</th>\n      <td>female</td>\n      <td>group E</td>\n      <td>some college</td>\n      <td>standard</td>\n      <td>none</td>\n      <td>98</td>\n      <td>81</td>\n      <td>94</td>\n    </tr>\n    <tr>\n      <th>997</th>\n      <td>female</td>\n      <td>group E</td>\n      <td>associate's degree</td>\n      <td>free/reduced</td>\n      <td>none</td>\n      <td>67</td>\n      <td>67</td>\n      <td>67</td>\n    </tr>\n    <tr>\n      <th>998</th>\n      <td>female</td>\n      <td>group C</td>\n      <td>high school</td>\n      <td>standard</td>\n      <td>none</td>\n      <td>63</td>\n      <td>68</td>\n      <td>70</td>\n    </tr>\n    <tr>\n      <th>999</th>\n      <td>male</td>\n      <td>group C</td>\n      <td>some college</td>\n      <td>free/reduced</td>\n      <td>none</td>\n      <td>49</td>\n      <td>57</td>\n      <td>50</td>\n    </tr>\n  </tbody>\n</table>\n<p>1000 rows × 8 columns</p>\n</div>"
     },
     "execution_count": 13,
     "metadata": {},
     "output_type": "execute_result"
    }
   ],
   "source": [
    "exam_scores"
   ],
   "metadata": {
    "collapsed": false
   }
  },
  {
   "cell_type": "code",
   "execution_count": 14,
   "outputs": [
    {
     "data": {
      "text/plain": "(1000, 8)"
     },
     "execution_count": 14,
     "metadata": {},
     "output_type": "execute_result"
    }
   ],
   "source": [
    "exam_scores.shape"
   ],
   "metadata": {
    "collapsed": false
   }
  },
  {
   "cell_type": "code",
   "execution_count": 15,
   "outputs": [
    {
     "data": {
      "text/plain": "   gender race/ethnicity parental level of education         lunch  \\\n0    male        group B           bachelor's degree      standard   \n1  female        group C                some college      standard   \n2    male        group C                some college  free/reduced   \n3  female        group D           bachelor's degree  free/reduced   \n4    male        group D                some college      standard   \n\n  test preparation course  math score  reading score  writing score  \n0                    none          74             68             67  \n1               completed          58             68             66  \n2                    none          66             65             65  \n3                    none          74             75             73  \n4                    none          78             77             71  ",
      "text/html": "<div>\n<style scoped>\n    .dataframe tbody tr th:only-of-type {\n        vertical-align: middle;\n    }\n\n    .dataframe tbody tr th {\n        vertical-align: top;\n    }\n\n    .dataframe thead th {\n        text-align: right;\n    }\n</style>\n<table border=\"1\" class=\"dataframe\">\n  <thead>\n    <tr style=\"text-align: right;\">\n      <th></th>\n      <th>gender</th>\n      <th>race/ethnicity</th>\n      <th>parental level of education</th>\n      <th>lunch</th>\n      <th>test preparation course</th>\n      <th>math score</th>\n      <th>reading score</th>\n      <th>writing score</th>\n    </tr>\n  </thead>\n  <tbody>\n    <tr>\n      <th>0</th>\n      <td>male</td>\n      <td>group B</td>\n      <td>bachelor's degree</td>\n      <td>standard</td>\n      <td>none</td>\n      <td>74</td>\n      <td>68</td>\n      <td>67</td>\n    </tr>\n    <tr>\n      <th>1</th>\n      <td>female</td>\n      <td>group C</td>\n      <td>some college</td>\n      <td>standard</td>\n      <td>completed</td>\n      <td>58</td>\n      <td>68</td>\n      <td>66</td>\n    </tr>\n    <tr>\n      <th>2</th>\n      <td>male</td>\n      <td>group C</td>\n      <td>some college</td>\n      <td>free/reduced</td>\n      <td>none</td>\n      <td>66</td>\n      <td>65</td>\n      <td>65</td>\n    </tr>\n    <tr>\n      <th>3</th>\n      <td>female</td>\n      <td>group D</td>\n      <td>bachelor's degree</td>\n      <td>free/reduced</td>\n      <td>none</td>\n      <td>74</td>\n      <td>75</td>\n      <td>73</td>\n    </tr>\n    <tr>\n      <th>4</th>\n      <td>male</td>\n      <td>group D</td>\n      <td>some college</td>\n      <td>standard</td>\n      <td>none</td>\n      <td>78</td>\n      <td>77</td>\n      <td>71</td>\n    </tr>\n  </tbody>\n</table>\n</div>"
     },
     "execution_count": 15,
     "metadata": {},
     "output_type": "execute_result"
    }
   ],
   "source": [
    "exam_scores.head(5)"
   ],
   "metadata": {
    "collapsed": false
   }
  },
  {
   "cell_type": "code",
   "execution_count": 16,
   "outputs": [
    {
     "data": {
      "text/plain": "     gender race/ethnicity parental level of education         lunch  \\\n995  female        group C            some high school      standard   \n996  female        group E                some college      standard   \n997  female        group E          associate's degree  free/reduced   \n998  female        group C                 high school      standard   \n999    male        group C                some college  free/reduced   \n\n    test preparation course  math score  reading score  writing score  \n995                    none          68             77             72  \n996                    none          98             81             94  \n997                    none          67             67             67  \n998                    none          63             68             70  \n999                    none          49             57             50  ",
      "text/html": "<div>\n<style scoped>\n    .dataframe tbody tr th:only-of-type {\n        vertical-align: middle;\n    }\n\n    .dataframe tbody tr th {\n        vertical-align: top;\n    }\n\n    .dataframe thead th {\n        text-align: right;\n    }\n</style>\n<table border=\"1\" class=\"dataframe\">\n  <thead>\n    <tr style=\"text-align: right;\">\n      <th></th>\n      <th>gender</th>\n      <th>race/ethnicity</th>\n      <th>parental level of education</th>\n      <th>lunch</th>\n      <th>test preparation course</th>\n      <th>math score</th>\n      <th>reading score</th>\n      <th>writing score</th>\n    </tr>\n  </thead>\n  <tbody>\n    <tr>\n      <th>995</th>\n      <td>female</td>\n      <td>group C</td>\n      <td>some high school</td>\n      <td>standard</td>\n      <td>none</td>\n      <td>68</td>\n      <td>77</td>\n      <td>72</td>\n    </tr>\n    <tr>\n      <th>996</th>\n      <td>female</td>\n      <td>group E</td>\n      <td>some college</td>\n      <td>standard</td>\n      <td>none</td>\n      <td>98</td>\n      <td>81</td>\n      <td>94</td>\n    </tr>\n    <tr>\n      <th>997</th>\n      <td>female</td>\n      <td>group E</td>\n      <td>associate's degree</td>\n      <td>free/reduced</td>\n      <td>none</td>\n      <td>67</td>\n      <td>67</td>\n      <td>67</td>\n    </tr>\n    <tr>\n      <th>998</th>\n      <td>female</td>\n      <td>group C</td>\n      <td>high school</td>\n      <td>standard</td>\n      <td>none</td>\n      <td>63</td>\n      <td>68</td>\n      <td>70</td>\n    </tr>\n    <tr>\n      <th>999</th>\n      <td>male</td>\n      <td>group C</td>\n      <td>some college</td>\n      <td>free/reduced</td>\n      <td>none</td>\n      <td>49</td>\n      <td>57</td>\n      <td>50</td>\n    </tr>\n  </tbody>\n</table>\n</div>"
     },
     "execution_count": 16,
     "metadata": {},
     "output_type": "execute_result"
    }
   ],
   "source": [
    "exam_scores.tail()"
   ],
   "metadata": {
    "collapsed": false
   }
  },
  {
   "cell_type": "code",
   "execution_count": 17,
   "outputs": [
    {
     "data": {
      "text/plain": "gender                         object\nrace/ethnicity                 object\nparental level of education    object\nlunch                          object\ntest preparation course        object\nmath score                      int64\nreading score                   int64\nwriting score                   int64\ndtype: object"
     },
     "execution_count": 17,
     "metadata": {},
     "output_type": "execute_result"
    }
   ],
   "source": [
    "exam_scores.dtypes"
   ],
   "metadata": {
    "collapsed": false
   }
  },
  {
   "cell_type": "code",
   "execution_count": 18,
   "outputs": [
    {
     "name": "stdout",
     "output_type": "stream",
     "text": [
      "<class 'pandas.core.frame.DataFrame'>\n",
      "RangeIndex: 1000 entries, 0 to 999\n",
      "Data columns (total 8 columns):\n",
      " #   Column                       Non-Null Count  Dtype \n",
      "---  ------                       --------------  ----- \n",
      " 0   gender                       1000 non-null   object\n",
      " 1   race/ethnicity               1000 non-null   object\n",
      " 2   parental level of education  1000 non-null   object\n",
      " 3   lunch                        1000 non-null   object\n",
      " 4   test preparation course      1000 non-null   object\n",
      " 5   math score                   1000 non-null   int64 \n",
      " 6   reading score                1000 non-null   int64 \n",
      " 7   writing score                1000 non-null   int64 \n",
      "dtypes: int64(3), object(5)\n",
      "memory usage: 62.6+ KB\n"
     ]
    }
   ],
   "source": [
    "exam_scores.info() # summary about the df"
   ],
   "metadata": {
    "collapsed": false
   }
  },
  {
   "cell_type": "code",
   "execution_count": 19,
   "outputs": [],
   "source": [
    "sma_data = pd.read_csv('https://raw.githubusercontent.com/dphi-official/Datasets/master/Standard_Metropolitan_Areas_Data-data.csv')"
   ],
   "metadata": {
    "collapsed": false
   }
  },
  {
   "cell_type": "code",
   "execution_count": 20,
   "outputs": [
    {
     "data": {
      "text/plain": "(99, 10)"
     },
     "execution_count": 20,
     "metadata": {},
     "output_type": "execute_result"
    }
   ],
   "source": [
    "sma_data.shape"
   ],
   "metadata": {
    "collapsed": false
   }
  },
  {
   "cell_type": "code",
   "execution_count": 21,
   "outputs": [
    {
     "name": "stdout",
     "output_type": "stream",
     "text": [
      "<class 'pandas.core.frame.DataFrame'>\n",
      "RangeIndex: 99 entries, 0 to 98\n",
      "Data columns (total 10 columns):\n",
      " #   Column          Non-Null Count  Dtype  \n",
      "---  ------          --------------  -----  \n",
      " 0   land_area       99 non-null     int64  \n",
      " 1   percent_city    99 non-null     float64\n",
      " 2   percent_senior  99 non-null     float64\n",
      " 3   physicians      99 non-null     int64  \n",
      " 4   hospital_beds   99 non-null     int64  \n",
      " 5   graduates       99 non-null     float64\n",
      " 6   work_force      99 non-null     float64\n",
      " 7   income          99 non-null     int64  \n",
      " 8   region          99 non-null     int64  \n",
      " 9   crime_rate      99 non-null     float64\n",
      "dtypes: float64(5), int64(5)\n",
      "memory usage: 7.9 KB\n"
     ]
    }
   ],
   "source": [
    "sma_data.info()"
   ],
   "metadata": {
    "collapsed": false
   }
  },
  {
   "cell_type": "code",
   "execution_count": 22,
   "outputs": [
    {
     "data": {
      "text/plain": "   gender race/ethnicity parental level of education         lunch  \\\n0    male        group B           bachelor's degree      standard   \n1  female        group C                some college      standard   \n2    male        group C                some college  free/reduced   \n3  female        group D           bachelor's degree  free/reduced   \n4    male        group D                some college      standard   \n\n  test preparation course  math score  reading score  writing score  \n0                    none          74             68             67  \n1               completed          58             68             66  \n2                    none          66             65             65  \n3                    none          74             75             73  \n4                    none          78             77             71  ",
      "text/html": "<div>\n<style scoped>\n    .dataframe tbody tr th:only-of-type {\n        vertical-align: middle;\n    }\n\n    .dataframe tbody tr th {\n        vertical-align: top;\n    }\n\n    .dataframe thead th {\n        text-align: right;\n    }\n</style>\n<table border=\"1\" class=\"dataframe\">\n  <thead>\n    <tr style=\"text-align: right;\">\n      <th></th>\n      <th>gender</th>\n      <th>race/ethnicity</th>\n      <th>parental level of education</th>\n      <th>lunch</th>\n      <th>test preparation course</th>\n      <th>math score</th>\n      <th>reading score</th>\n      <th>writing score</th>\n    </tr>\n  </thead>\n  <tbody>\n    <tr>\n      <th>0</th>\n      <td>male</td>\n      <td>group B</td>\n      <td>bachelor's degree</td>\n      <td>standard</td>\n      <td>none</td>\n      <td>74</td>\n      <td>68</td>\n      <td>67</td>\n    </tr>\n    <tr>\n      <th>1</th>\n      <td>female</td>\n      <td>group C</td>\n      <td>some college</td>\n      <td>standard</td>\n      <td>completed</td>\n      <td>58</td>\n      <td>68</td>\n      <td>66</td>\n    </tr>\n    <tr>\n      <th>2</th>\n      <td>male</td>\n      <td>group C</td>\n      <td>some college</td>\n      <td>free/reduced</td>\n      <td>none</td>\n      <td>66</td>\n      <td>65</td>\n      <td>65</td>\n    </tr>\n    <tr>\n      <th>3</th>\n      <td>female</td>\n      <td>group D</td>\n      <td>bachelor's degree</td>\n      <td>free/reduced</td>\n      <td>none</td>\n      <td>74</td>\n      <td>75</td>\n      <td>73</td>\n    </tr>\n    <tr>\n      <th>4</th>\n      <td>male</td>\n      <td>group D</td>\n      <td>some college</td>\n      <td>standard</td>\n      <td>none</td>\n      <td>78</td>\n      <td>77</td>\n      <td>71</td>\n    </tr>\n  </tbody>\n</table>\n</div>"
     },
     "execution_count": 22,
     "metadata": {},
     "output_type": "execute_result"
    }
   ],
   "source": [
    "exam_scores.head()"
   ],
   "metadata": {
    "collapsed": false
   }
  },
  {
   "cell_type": "code",
   "execution_count": 23,
   "outputs": [
    {
     "data": {
      "text/plain": "'male'"
     },
     "execution_count": 23,
     "metadata": {},
     "output_type": "execute_result"
    }
   ],
   "source": [
    "exam_scores.iloc[0,0]"
   ],
   "metadata": {
    "collapsed": false
   }
  },
  {
   "cell_type": "code",
   "execution_count": 24,
   "outputs": [
    {
     "data": {
      "text/plain": "   gender race/ethnicity parental level of education         lunch\n0    male        group B           bachelor's degree      standard\n1  female        group C                some college      standard\n2    male        group C                some college  free/reduced\n3  female        group D           bachelor's degree  free/reduced",
      "text/html": "<div>\n<style scoped>\n    .dataframe tbody tr th:only-of-type {\n        vertical-align: middle;\n    }\n\n    .dataframe tbody tr th {\n        vertical-align: top;\n    }\n\n    .dataframe thead th {\n        text-align: right;\n    }\n</style>\n<table border=\"1\" class=\"dataframe\">\n  <thead>\n    <tr style=\"text-align: right;\">\n      <th></th>\n      <th>gender</th>\n      <th>race/ethnicity</th>\n      <th>parental level of education</th>\n      <th>lunch</th>\n    </tr>\n  </thead>\n  <tbody>\n    <tr>\n      <th>0</th>\n      <td>male</td>\n      <td>group B</td>\n      <td>bachelor's degree</td>\n      <td>standard</td>\n    </tr>\n    <tr>\n      <th>1</th>\n      <td>female</td>\n      <td>group C</td>\n      <td>some college</td>\n      <td>standard</td>\n    </tr>\n    <tr>\n      <th>2</th>\n      <td>male</td>\n      <td>group C</td>\n      <td>some college</td>\n      <td>free/reduced</td>\n    </tr>\n    <tr>\n      <th>3</th>\n      <td>female</td>\n      <td>group D</td>\n      <td>bachelor's degree</td>\n      <td>free/reduced</td>\n    </tr>\n  </tbody>\n</table>\n</div>"
     },
     "execution_count": 24,
     "metadata": {},
     "output_type": "execute_result"
    }
   ],
   "source": [
    "exam_scores.iloc[0:4,0:4]"
   ],
   "metadata": {
    "collapsed": false
   }
  },
  {
   "cell_type": "code",
   "execution_count": 25,
   "outputs": [
    {
     "data": {
      "text/plain": "0         none\n1    completed\n2         none\n3         none\n4         none\nName: test preparation course, dtype: object"
     },
     "execution_count": 25,
     "metadata": {},
     "output_type": "execute_result"
    }
   ],
   "source": [
    "exam_scores.iloc[0:5,4]"
   ],
   "metadata": {
    "collapsed": false
   }
  },
  {
   "cell_type": "code",
   "execution_count": 26,
   "outputs": [
    {
     "data": {
      "text/plain": "0        standard\n1        standard\n2    free/reduced\n3    free/reduced\n4        standard\nName: lunch, dtype: object"
     },
     "execution_count": 26,
     "metadata": {},
     "output_type": "execute_result"
    }
   ],
   "source": [
    "exam_scores.iloc[[0,1,2,3,4],3]"
   ],
   "metadata": {
    "collapsed": false
   }
  },
  {
   "cell_type": "code",
   "execution_count": 27,
   "outputs": [
    {
     "data": {
      "text/plain": "0    bachelor's degree\n1         some college\n2         some college\n3    bachelor's degree\n4         some college\nName: parental level of education, dtype: object"
     },
     "execution_count": 27,
     "metadata": {},
     "output_type": "execute_result"
    }
   ],
   "source": [
    "exam_scores.iloc[[0,1,2,3,4],2]"
   ],
   "metadata": {
    "collapsed": false
   }
  },
  {
   "cell_type": "code",
   "execution_count": 28,
   "outputs": [
    {
     "data": {
      "text/plain": "     reading score  writing score\n995             77             72\n996             81             94\n997             67             67\n998             68             70\n999             57             50",
      "text/html": "<div>\n<style scoped>\n    .dataframe tbody tr th:only-of-type {\n        vertical-align: middle;\n    }\n\n    .dataframe tbody tr th {\n        vertical-align: top;\n    }\n\n    .dataframe thead th {\n        text-align: right;\n    }\n</style>\n<table border=\"1\" class=\"dataframe\">\n  <thead>\n    <tr style=\"text-align: right;\">\n      <th></th>\n      <th>reading score</th>\n      <th>writing score</th>\n    </tr>\n  </thead>\n  <tbody>\n    <tr>\n      <th>995</th>\n      <td>77</td>\n      <td>72</td>\n    </tr>\n    <tr>\n      <th>996</th>\n      <td>81</td>\n      <td>94</td>\n    </tr>\n    <tr>\n      <th>997</th>\n      <td>67</td>\n      <td>67</td>\n    </tr>\n    <tr>\n      <th>998</th>\n      <td>68</td>\n      <td>70</td>\n    </tr>\n    <tr>\n      <th>999</th>\n      <td>57</td>\n      <td>50</td>\n    </tr>\n  </tbody>\n</table>\n</div>"
     },
     "execution_count": 28,
     "metadata": {},
     "output_type": "execute_result"
    }
   ],
   "source": [
    "exam_scores.iloc[-5:, -2:]"
   ],
   "metadata": {
    "collapsed": false
   }
  },
  {
   "cell_type": "code",
   "execution_count": 29,
   "outputs": [
    {
     "data": {
      "text/plain": "    parental level of education         lunch test preparation course  \\\n992           bachelor's degree      standard                    none   \n993                some college      standard                    none   \n994             master's degree      standard               completed   \n995            some high school      standard                    none   \n996                some college      standard                    none   \n997          associate's degree  free/reduced                    none   \n998                 high school      standard                    none   \n999                some college  free/reduced                    none   \n\n     math score  reading score  writing score  \n992          78             73             71  \n993          56             54             45  \n994          85             93             90  \n995          68             77             72  \n996          98             81             94  \n997          67             67             67  \n998          63             68             70  \n999          49             57             50  ",
      "text/html": "<div>\n<style scoped>\n    .dataframe tbody tr th:only-of-type {\n        vertical-align: middle;\n    }\n\n    .dataframe tbody tr th {\n        vertical-align: top;\n    }\n\n    .dataframe thead th {\n        text-align: right;\n    }\n</style>\n<table border=\"1\" class=\"dataframe\">\n  <thead>\n    <tr style=\"text-align: right;\">\n      <th></th>\n      <th>parental level of education</th>\n      <th>lunch</th>\n      <th>test preparation course</th>\n      <th>math score</th>\n      <th>reading score</th>\n      <th>writing score</th>\n    </tr>\n  </thead>\n  <tbody>\n    <tr>\n      <th>992</th>\n      <td>bachelor's degree</td>\n      <td>standard</td>\n      <td>none</td>\n      <td>78</td>\n      <td>73</td>\n      <td>71</td>\n    </tr>\n    <tr>\n      <th>993</th>\n      <td>some college</td>\n      <td>standard</td>\n      <td>none</td>\n      <td>56</td>\n      <td>54</td>\n      <td>45</td>\n    </tr>\n    <tr>\n      <th>994</th>\n      <td>master's degree</td>\n      <td>standard</td>\n      <td>completed</td>\n      <td>85</td>\n      <td>93</td>\n      <td>90</td>\n    </tr>\n    <tr>\n      <th>995</th>\n      <td>some high school</td>\n      <td>standard</td>\n      <td>none</td>\n      <td>68</td>\n      <td>77</td>\n      <td>72</td>\n    </tr>\n    <tr>\n      <th>996</th>\n      <td>some college</td>\n      <td>standard</td>\n      <td>none</td>\n      <td>98</td>\n      <td>81</td>\n      <td>94</td>\n    </tr>\n    <tr>\n      <th>997</th>\n      <td>associate's degree</td>\n      <td>free/reduced</td>\n      <td>none</td>\n      <td>67</td>\n      <td>67</td>\n      <td>67</td>\n    </tr>\n    <tr>\n      <th>998</th>\n      <td>high school</td>\n      <td>standard</td>\n      <td>none</td>\n      <td>63</td>\n      <td>68</td>\n      <td>70</td>\n    </tr>\n    <tr>\n      <th>999</th>\n      <td>some college</td>\n      <td>free/reduced</td>\n      <td>none</td>\n      <td>49</td>\n      <td>57</td>\n      <td>50</td>\n    </tr>\n  </tbody>\n</table>\n</div>"
     },
     "execution_count": 29,
     "metadata": {},
     "output_type": "execute_result"
    }
   ],
   "source": [
    "exam_scores.iloc[-8:, 2:]"
   ],
   "metadata": {
    "collapsed": false
   }
  },
  {
   "cell_type": "code",
   "execution_count": 30,
   "outputs": [
    {
     "data": {
      "text/plain": "'group B'"
     },
     "execution_count": 30,
     "metadata": {},
     "output_type": "execute_result"
    }
   ],
   "source": [
    "exam_scores.loc[0, 'race/ethnicity']"
   ],
   "metadata": {
    "collapsed": false
   }
  },
  {
   "cell_type": "code",
   "execution_count": 31,
   "outputs": [
    {
     "data": {
      "text/plain": "   gender         lunch  math score\n0    male      standard          74\n1  female      standard          58\n2    male  free/reduced          66\n3  female  free/reduced          74\n4    male      standard          78\n5  female      standard          75",
      "text/html": "<div>\n<style scoped>\n    .dataframe tbody tr th:only-of-type {\n        vertical-align: middle;\n    }\n\n    .dataframe tbody tr th {\n        vertical-align: top;\n    }\n\n    .dataframe thead th {\n        text-align: right;\n    }\n</style>\n<table border=\"1\" class=\"dataframe\">\n  <thead>\n    <tr style=\"text-align: right;\">\n      <th></th>\n      <th>gender</th>\n      <th>lunch</th>\n      <th>math score</th>\n    </tr>\n  </thead>\n  <tbody>\n    <tr>\n      <th>0</th>\n      <td>male</td>\n      <td>standard</td>\n      <td>74</td>\n    </tr>\n    <tr>\n      <th>1</th>\n      <td>female</td>\n      <td>standard</td>\n      <td>58</td>\n    </tr>\n    <tr>\n      <th>2</th>\n      <td>male</td>\n      <td>free/reduced</td>\n      <td>66</td>\n    </tr>\n    <tr>\n      <th>3</th>\n      <td>female</td>\n      <td>free/reduced</td>\n      <td>74</td>\n    </tr>\n    <tr>\n      <th>4</th>\n      <td>male</td>\n      <td>standard</td>\n      <td>78</td>\n    </tr>\n    <tr>\n      <th>5</th>\n      <td>female</td>\n      <td>standard</td>\n      <td>75</td>\n    </tr>\n  </tbody>\n</table>\n</div>"
     },
     "execution_count": 31,
     "metadata": {},
     "output_type": "execute_result"
    }
   ],
   "source": [
    "exam_scores.loc[0:5, ['gender', 'lunch', 'math score']]"
   ],
   "metadata": {
    "collapsed": false
   }
  },
  {
   "cell_type": "code",
   "execution_count": 32,
   "outputs": [
    {
     "data": {
      "text/plain": "Index(['gender', 'race/ethnicity', 'parental level of education', 'lunch',\n       'test preparation course', 'math score', 'reading score',\n       'writing score'],\n      dtype='object')"
     },
     "execution_count": 32,
     "metadata": {},
     "output_type": "execute_result"
    }
   ],
   "source": [
    "exam_scores.columns"
   ],
   "metadata": {
    "collapsed": false
   }
  },
  {
   "cell_type": "code",
   "execution_count": 33,
   "outputs": [
    {
     "data": {
      "text/plain": "0      74\n1      58\n2      66\n3      74\n4      78\n       ..\n995    68\n996    98\n997    67\n998    63\n999    49\nName: math score, Length: 1000, dtype: int64"
     },
     "execution_count": 33,
     "metadata": {},
     "output_type": "execute_result"
    }
   ],
   "source": [
    "exam_scores['math score']"
   ],
   "metadata": {
    "collapsed": false
   }
  },
  {
   "cell_type": "code",
   "execution_count": 34,
   "outputs": [
    {
     "data": {
      "text/plain": "0           none\n1      completed\n2           none\n3           none\n4           none\n         ...    \n995         none\n996         none\n997         none\n998         none\n999         none\nName: test preparation course, Length: 1000, dtype: object"
     },
     "execution_count": 34,
     "metadata": {},
     "output_type": "execute_result"
    }
   ],
   "source": [
    "exam_scores['test preparation course']"
   ],
   "metadata": {
    "collapsed": false
   }
  },
  {
   "cell_type": "code",
   "execution_count": 35,
   "outputs": [
    {
     "data": {
      "text/plain": "     math score  writing score\n0            74             67\n1            58             66\n2            66             65\n3            74             73\n4            78             71\n..          ...            ...\n995          68             72\n996          98             94\n997          67             67\n998          63             70\n999          49             50\n\n[1000 rows x 2 columns]",
      "text/html": "<div>\n<style scoped>\n    .dataframe tbody tr th:only-of-type {\n        vertical-align: middle;\n    }\n\n    .dataframe tbody tr th {\n        vertical-align: top;\n    }\n\n    .dataframe thead th {\n        text-align: right;\n    }\n</style>\n<table border=\"1\" class=\"dataframe\">\n  <thead>\n    <tr style=\"text-align: right;\">\n      <th></th>\n      <th>math score</th>\n      <th>writing score</th>\n    </tr>\n  </thead>\n  <tbody>\n    <tr>\n      <th>0</th>\n      <td>74</td>\n      <td>67</td>\n    </tr>\n    <tr>\n      <th>1</th>\n      <td>58</td>\n      <td>66</td>\n    </tr>\n    <tr>\n      <th>2</th>\n      <td>66</td>\n      <td>65</td>\n    </tr>\n    <tr>\n      <th>3</th>\n      <td>74</td>\n      <td>73</td>\n    </tr>\n    <tr>\n      <th>4</th>\n      <td>78</td>\n      <td>71</td>\n    </tr>\n    <tr>\n      <th>...</th>\n      <td>...</td>\n      <td>...</td>\n    </tr>\n    <tr>\n      <th>995</th>\n      <td>68</td>\n      <td>72</td>\n    </tr>\n    <tr>\n      <th>996</th>\n      <td>98</td>\n      <td>94</td>\n    </tr>\n    <tr>\n      <th>997</th>\n      <td>67</td>\n      <td>67</td>\n    </tr>\n    <tr>\n      <th>998</th>\n      <td>63</td>\n      <td>70</td>\n    </tr>\n    <tr>\n      <th>999</th>\n      <td>49</td>\n      <td>50</td>\n    </tr>\n  </tbody>\n</table>\n<p>1000 rows × 2 columns</p>\n</div>"
     },
     "execution_count": 35,
     "metadata": {},
     "output_type": "execute_result"
    }
   ],
   "source": [
    "exam_scores[['math score', 'writing score']]"
   ],
   "metadata": {
    "collapsed": false
   }
  },
  {
   "cell_type": "code",
   "execution_count": 36,
   "outputs": [
    {
     "data": {
      "text/plain": "        math score  reading score  writing score\ncount  1000.000000     1000.00000    1000.000000\nmean     67.128000       70.17400      68.973000\nstd      14.815367       14.85599      15.109155\nmin      15.000000       18.00000      10.000000\n25%      58.000000       60.00000      59.000000\n50%      67.000000       70.00000      69.000000\n75%      78.000000       81.00000      80.000000\nmax     100.000000      100.00000     100.000000",
      "text/html": "<div>\n<style scoped>\n    .dataframe tbody tr th:only-of-type {\n        vertical-align: middle;\n    }\n\n    .dataframe tbody tr th {\n        vertical-align: top;\n    }\n\n    .dataframe thead th {\n        text-align: right;\n    }\n</style>\n<table border=\"1\" class=\"dataframe\">\n  <thead>\n    <tr style=\"text-align: right;\">\n      <th></th>\n      <th>math score</th>\n      <th>reading score</th>\n      <th>writing score</th>\n    </tr>\n  </thead>\n  <tbody>\n    <tr>\n      <th>count</th>\n      <td>1000.000000</td>\n      <td>1000.00000</td>\n      <td>1000.000000</td>\n    </tr>\n    <tr>\n      <th>mean</th>\n      <td>67.128000</td>\n      <td>70.17400</td>\n      <td>68.973000</td>\n    </tr>\n    <tr>\n      <th>std</th>\n      <td>14.815367</td>\n      <td>14.85599</td>\n      <td>15.109155</td>\n    </tr>\n    <tr>\n      <th>min</th>\n      <td>15.000000</td>\n      <td>18.00000</td>\n      <td>10.000000</td>\n    </tr>\n    <tr>\n      <th>25%</th>\n      <td>58.000000</td>\n      <td>60.00000</td>\n      <td>59.000000</td>\n    </tr>\n    <tr>\n      <th>50%</th>\n      <td>67.000000</td>\n      <td>70.00000</td>\n      <td>69.000000</td>\n    </tr>\n    <tr>\n      <th>75%</th>\n      <td>78.000000</td>\n      <td>81.00000</td>\n      <td>80.000000</td>\n    </tr>\n    <tr>\n      <th>max</th>\n      <td>100.000000</td>\n      <td>100.00000</td>\n      <td>100.000000</td>\n    </tr>\n  </tbody>\n</table>\n</div>"
     },
     "execution_count": 36,
     "metadata": {},
     "output_type": "execute_result"
    }
   ],
   "source": [
    "exam_scores.describe()"
   ],
   "metadata": {
    "collapsed": false
   }
  },
  {
   "cell_type": "code",
   "execution_count": 37,
   "outputs": [
    {
     "data": {
      "text/plain": "<bound method DataFrame.info of      gender race/ethnicity parental level of education         lunch  \\\n0      male        group B           bachelor's degree      standard   \n1    female        group C                some college      standard   \n2      male        group C                some college  free/reduced   \n3    female        group D           bachelor's degree  free/reduced   \n4      male        group D                some college      standard   \n..      ...            ...                         ...           ...   \n995  female        group C            some high school      standard   \n996  female        group E                some college      standard   \n997  female        group E          associate's degree  free/reduced   \n998  female        group C                 high school      standard   \n999    male        group C                some college  free/reduced   \n\n    test preparation course  math score  reading score  writing score  \n0                      none          74             68             67  \n1                 completed          58             68             66  \n2                      none          66             65             65  \n3                      none          74             75             73  \n4                      none          78             77             71  \n..                      ...         ...            ...            ...  \n995                    none          68             77             72  \n996                    none          98             81             94  \n997                    none          67             67             67  \n998                    none          63             68             70  \n999                    none          49             57             50  \n\n[1000 rows x 8 columns]>"
     },
     "execution_count": 37,
     "metadata": {},
     "output_type": "execute_result"
    }
   ],
   "source": [
    "exam_scores.info"
   ],
   "metadata": {
    "collapsed": false
   }
  },
  {
   "cell_type": "code",
   "execution_count": 38,
   "outputs": [
    {
     "data": {
      "text/plain": "female    502\nmale      498\nName: gender, dtype: int64"
     },
     "execution_count": 38,
     "metadata": {},
     "output_type": "execute_result"
    }
   ],
   "source": [
    "exam_scores['gender'].value_counts()"
   ],
   "metadata": {
    "collapsed": false
   }
  },
  {
   "cell_type": "code",
   "execution_count": 39,
   "outputs": [],
   "source": [
    "gender_data = exam_scores['gender'].value_counts()"
   ],
   "metadata": {
    "collapsed": false
   }
  },
  {
   "cell_type": "code",
   "execution_count": 40,
   "outputs": [
    {
     "data": {
      "text/plain": "pandas.core.series.Series"
     },
     "execution_count": 40,
     "metadata": {},
     "output_type": "execute_result"
    }
   ],
   "source": [
    "type(exam_scores['gender'].value_counts())"
   ],
   "metadata": {
    "collapsed": false
   }
  },
  {
   "cell_type": "code",
   "execution_count": 41,
   "outputs": [
    {
     "data": {
      "text/plain": "498"
     },
     "execution_count": 41,
     "metadata": {},
     "output_type": "execute_result"
    }
   ],
   "source": [
    "gender_data['male']"
   ],
   "metadata": {
    "collapsed": false
   }
  },
  {
   "cell_type": "code",
   "execution_count": 42,
   "outputs": [
    {
     "data": {
      "text/plain": "502"
     },
     "execution_count": 42,
     "metadata": {},
     "output_type": "execute_result"
    }
   ],
   "source": [
    "gender_data['female']"
   ],
   "metadata": {
    "collapsed": false
   }
  },
  {
   "cell_type": "code",
   "execution_count": 43,
   "outputs": [
    {
     "data": {
      "text/plain": "    land_area  percent_city  percent_senior  physicians  hospital_beds  \\\n0        1384          78.1            12.3       25627          69678   \n1        3719          43.9             9.4       13326          43292   \n2        3553          37.4            10.7        9724          33731   \n3        3916          29.9             8.8        6402          24167   \n4        2480          31.5            10.5        8502          16751   \n5        2815          23.1             6.7        7340          16941   \n6        8360          46.3             8.2        4047          14347   \n7        6794          60.1             6.3        4562          14333   \n8        3049          19.5            12.1        4005          21149   \n9        4647          31.5             9.2        3916          12815   \n10       1008          16.6            10.3        4006          16704   \n\n    graduates  work_force  income  region  crime_rate  \n0        50.1      4083.9   72100       1       75.55  \n1        53.9      3305.9   54542       2       56.03  \n2        50.6      2066.3   33216       1       41.32  \n3        52.2      1966.7   32906       2       67.38  \n4        66.1      1514.5   26573       4       80.19  \n5        68.3      1541.9   25663       3       58.48  \n6        53.6      1321.2   18350       3       72.25  \n7        51.7      1272.7   18221       3       64.88  \n8        53.4       967.5   15826       1       30.51  \n9        65.1      1032.2   14542       2       55.30  \n10       55.9       935.5   15953       1       54.16  ",
      "text/html": "<div>\n<style scoped>\n    .dataframe tbody tr th:only-of-type {\n        vertical-align: middle;\n    }\n\n    .dataframe tbody tr th {\n        vertical-align: top;\n    }\n\n    .dataframe thead th {\n        text-align: right;\n    }\n</style>\n<table border=\"1\" class=\"dataframe\">\n  <thead>\n    <tr style=\"text-align: right;\">\n      <th></th>\n      <th>land_area</th>\n      <th>percent_city</th>\n      <th>percent_senior</th>\n      <th>physicians</th>\n      <th>hospital_beds</th>\n      <th>graduates</th>\n      <th>work_force</th>\n      <th>income</th>\n      <th>region</th>\n      <th>crime_rate</th>\n    </tr>\n  </thead>\n  <tbody>\n    <tr>\n      <th>0</th>\n      <td>1384</td>\n      <td>78.1</td>\n      <td>12.3</td>\n      <td>25627</td>\n      <td>69678</td>\n      <td>50.1</td>\n      <td>4083.9</td>\n      <td>72100</td>\n      <td>1</td>\n      <td>75.55</td>\n    </tr>\n    <tr>\n      <th>1</th>\n      <td>3719</td>\n      <td>43.9</td>\n      <td>9.4</td>\n      <td>13326</td>\n      <td>43292</td>\n      <td>53.9</td>\n      <td>3305.9</td>\n      <td>54542</td>\n      <td>2</td>\n      <td>56.03</td>\n    </tr>\n    <tr>\n      <th>2</th>\n      <td>3553</td>\n      <td>37.4</td>\n      <td>10.7</td>\n      <td>9724</td>\n      <td>33731</td>\n      <td>50.6</td>\n      <td>2066.3</td>\n      <td>33216</td>\n      <td>1</td>\n      <td>41.32</td>\n    </tr>\n    <tr>\n      <th>3</th>\n      <td>3916</td>\n      <td>29.9</td>\n      <td>8.8</td>\n      <td>6402</td>\n      <td>24167</td>\n      <td>52.2</td>\n      <td>1966.7</td>\n      <td>32906</td>\n      <td>2</td>\n      <td>67.38</td>\n    </tr>\n    <tr>\n      <th>4</th>\n      <td>2480</td>\n      <td>31.5</td>\n      <td>10.5</td>\n      <td>8502</td>\n      <td>16751</td>\n      <td>66.1</td>\n      <td>1514.5</td>\n      <td>26573</td>\n      <td>4</td>\n      <td>80.19</td>\n    </tr>\n    <tr>\n      <th>5</th>\n      <td>2815</td>\n      <td>23.1</td>\n      <td>6.7</td>\n      <td>7340</td>\n      <td>16941</td>\n      <td>68.3</td>\n      <td>1541.9</td>\n      <td>25663</td>\n      <td>3</td>\n      <td>58.48</td>\n    </tr>\n    <tr>\n      <th>6</th>\n      <td>8360</td>\n      <td>46.3</td>\n      <td>8.2</td>\n      <td>4047</td>\n      <td>14347</td>\n      <td>53.6</td>\n      <td>1321.2</td>\n      <td>18350</td>\n      <td>3</td>\n      <td>72.25</td>\n    </tr>\n    <tr>\n      <th>7</th>\n      <td>6794</td>\n      <td>60.1</td>\n      <td>6.3</td>\n      <td>4562</td>\n      <td>14333</td>\n      <td>51.7</td>\n      <td>1272.7</td>\n      <td>18221</td>\n      <td>3</td>\n      <td>64.88</td>\n    </tr>\n    <tr>\n      <th>8</th>\n      <td>3049</td>\n      <td>19.5</td>\n      <td>12.1</td>\n      <td>4005</td>\n      <td>21149</td>\n      <td>53.4</td>\n      <td>967.5</td>\n      <td>15826</td>\n      <td>1</td>\n      <td>30.51</td>\n    </tr>\n    <tr>\n      <th>9</th>\n      <td>4647</td>\n      <td>31.5</td>\n      <td>9.2</td>\n      <td>3916</td>\n      <td>12815</td>\n      <td>65.1</td>\n      <td>1032.2</td>\n      <td>14542</td>\n      <td>2</td>\n      <td>55.30</td>\n    </tr>\n    <tr>\n      <th>10</th>\n      <td>1008</td>\n      <td>16.6</td>\n      <td>10.3</td>\n      <td>4006</td>\n      <td>16704</td>\n      <td>55.9</td>\n      <td>935.5</td>\n      <td>15953</td>\n      <td>1</td>\n      <td>54.16</td>\n    </tr>\n  </tbody>\n</table>\n</div>"
     },
     "execution_count": 43,
     "metadata": {},
     "output_type": "execute_result"
    }
   ],
   "source": [
    "sma_data.head(11)"
   ],
   "metadata": {
    "collapsed": false
   }
  },
  {
   "cell_type": "code",
   "execution_count": 44,
   "outputs": [
    {
     "data": {
      "text/plain": "    crime_rate\n10       54.16",
      "text/html": "<div>\n<style scoped>\n    .dataframe tbody tr th:only-of-type {\n        vertical-align: middle;\n    }\n\n    .dataframe tbody tr th {\n        vertical-align: top;\n    }\n\n    .dataframe thead th {\n        text-align: right;\n    }\n</style>\n<table border=\"1\" class=\"dataframe\">\n  <thead>\n    <tr style=\"text-align: right;\">\n      <th></th>\n      <th>crime_rate</th>\n    </tr>\n  </thead>\n  <tbody>\n    <tr>\n      <th>10</th>\n      <td>54.16</td>\n    </tr>\n  </tbody>\n</table>\n</div>"
     },
     "execution_count": 44,
     "metadata": {},
     "output_type": "execute_result"
    }
   ],
   "source": [
    "sma_data.loc[10:10,['crime_rate']]\n"
   ],
   "metadata": {
    "collapsed": false
   }
  },
  {
   "cell_type": "code",
   "execution_count": 45,
   "outputs": [
    {
     "data": {
      "text/plain": "   crime_rate\n9        55.3",
      "text/html": "<div>\n<style scoped>\n    .dataframe tbody tr th:only-of-type {\n        vertical-align: middle;\n    }\n\n    .dataframe tbody tr th {\n        vertical-align: top;\n    }\n\n    .dataframe thead th {\n        text-align: right;\n    }\n</style>\n<table border=\"1\" class=\"dataframe\">\n  <thead>\n    <tr style=\"text-align: right;\">\n      <th></th>\n      <th>crime_rate</th>\n    </tr>\n  </thead>\n  <tbody>\n    <tr>\n      <th>9</th>\n      <td>55.3</td>\n    </tr>\n  </tbody>\n</table>\n</div>"
     },
     "execution_count": 45,
     "metadata": {},
     "output_type": "execute_result"
    }
   ],
   "source": [
    "sma_data.loc[9:9,['crime_rate']]"
   ],
   "metadata": {
    "collapsed": false
   }
  },
  {
   "cell_type": "code",
   "execution_count": 46,
   "outputs": [
    {
     "data": {
      "text/plain": "94    348\n95    159\n96    264\n97    371\n98    140\nName: physicians, dtype: int64"
     },
     "execution_count": 46,
     "metadata": {},
     "output_type": "execute_result"
    }
   ],
   "source": [
    "sma_data['physicians'].tail()"
   ],
   "metadata": {
    "collapsed": false
   }
  },
  {
   "cell_type": "code",
   "execution_count": 47,
   "outputs": [
    {
     "data": {
      "text/plain": "    physicians\n0        25627\n1        13326\n2         9724\n3         6402\n4         8502\n..         ...\n94         348\n95         159\n96         264\n97         371\n98         140\n\n[99 rows x 1 columns]",
      "text/html": "<div>\n<style scoped>\n    .dataframe tbody tr th:only-of-type {\n        vertical-align: middle;\n    }\n\n    .dataframe tbody tr th {\n        vertical-align: top;\n    }\n\n    .dataframe thead th {\n        text-align: right;\n    }\n</style>\n<table border=\"1\" class=\"dataframe\">\n  <thead>\n    <tr style=\"text-align: right;\">\n      <th></th>\n      <th>physicians</th>\n    </tr>\n  </thead>\n  <tbody>\n    <tr>\n      <th>0</th>\n      <td>25627</td>\n    </tr>\n    <tr>\n      <th>1</th>\n      <td>13326</td>\n    </tr>\n    <tr>\n      <th>2</th>\n      <td>9724</td>\n    </tr>\n    <tr>\n      <th>3</th>\n      <td>6402</td>\n    </tr>\n    <tr>\n      <th>4</th>\n      <td>8502</td>\n    </tr>\n    <tr>\n      <th>...</th>\n      <td>...</td>\n    </tr>\n    <tr>\n      <th>94</th>\n      <td>348</td>\n    </tr>\n    <tr>\n      <th>95</th>\n      <td>159</td>\n    </tr>\n    <tr>\n      <th>96</th>\n      <td>264</td>\n    </tr>\n    <tr>\n      <th>97</th>\n      <td>371</td>\n    </tr>\n    <tr>\n      <th>98</th>\n      <td>140</td>\n    </tr>\n  </tbody>\n</table>\n<p>99 rows × 1 columns</p>\n</div>"
     },
     "execution_count": 47,
     "metadata": {},
     "output_type": "execute_result"
    }
   ],
   "source": [
    "sma_data.loc[-1:, ['physicians']]"
   ],
   "metadata": {
    "collapsed": false
   }
  },
  {
   "cell_type": "code",
   "execution_count": 48,
   "outputs": [
    {
     "data": {
      "text/plain": "98    140\nName: physicians, dtype: int64"
     },
     "execution_count": 48,
     "metadata": {},
     "output_type": "execute_result"
    }
   ],
   "source": [
    "sma_data.iloc[-1:,3]"
   ],
   "metadata": {
    "collapsed": false
   }
  },
  {
   "cell_type": "code",
   "execution_count": 48,
   "outputs": [],
   "source": [],
   "metadata": {
    "collapsed": false
   }
  },
  {
   "cell_type": "code",
   "execution_count": 49,
   "outputs": [],
   "source": [
    "sample_data = sma_data.loc[[1,3,5,7,9,13], ['land_area', 'work_force', 'income', 'region', 'crime_rate']]\n"
   ],
   "metadata": {
    "collapsed": false
   }
  },
  {
   "cell_type": "code",
   "execution_count": 50,
   "outputs": [
    {
     "data": {
      "text/plain": "    land_area  work_force  income  region  crime_rate\n1        3719      3305.9   54542       2       56.03\n3        3916      1966.7   32906       2       67.38\n5        2815      1541.9   25663       3       58.48\n7        6794      1272.7   18221       3       64.88\n9        4647      1032.2   14542       2       55.30\n13        782       915.2   12591       4       63.20",
      "text/html": "<div>\n<style scoped>\n    .dataframe tbody tr th:only-of-type {\n        vertical-align: middle;\n    }\n\n    .dataframe tbody tr th {\n        vertical-align: top;\n    }\n\n    .dataframe thead th {\n        text-align: right;\n    }\n</style>\n<table border=\"1\" class=\"dataframe\">\n  <thead>\n    <tr style=\"text-align: right;\">\n      <th></th>\n      <th>land_area</th>\n      <th>work_force</th>\n      <th>income</th>\n      <th>region</th>\n      <th>crime_rate</th>\n    </tr>\n  </thead>\n  <tbody>\n    <tr>\n      <th>1</th>\n      <td>3719</td>\n      <td>3305.9</td>\n      <td>54542</td>\n      <td>2</td>\n      <td>56.03</td>\n    </tr>\n    <tr>\n      <th>3</th>\n      <td>3916</td>\n      <td>1966.7</td>\n      <td>32906</td>\n      <td>2</td>\n      <td>67.38</td>\n    </tr>\n    <tr>\n      <th>5</th>\n      <td>2815</td>\n      <td>1541.9</td>\n      <td>25663</td>\n      <td>3</td>\n      <td>58.48</td>\n    </tr>\n    <tr>\n      <th>7</th>\n      <td>6794</td>\n      <td>1272.7</td>\n      <td>18221</td>\n      <td>3</td>\n      <td>64.88</td>\n    </tr>\n    <tr>\n      <th>9</th>\n      <td>4647</td>\n      <td>1032.2</td>\n      <td>14542</td>\n      <td>2</td>\n      <td>55.30</td>\n    </tr>\n    <tr>\n      <th>13</th>\n      <td>782</td>\n      <td>915.2</td>\n      <td>12591</td>\n      <td>4</td>\n      <td>63.20</td>\n    </tr>\n  </tbody>\n</table>\n</div>"
     },
     "execution_count": 50,
     "metadata": {},
     "output_type": "execute_result"
    }
   ],
   "source": [
    "sample_data"
   ],
   "metadata": {
    "collapsed": false
   }
  },
  {
   "cell_type": "code",
   "execution_count": 51,
   "outputs": [
    {
     "data": {
      "text/plain": "3    36\n2    25\n1    21\n4    17\nName: region, dtype: int64"
     },
     "execution_count": 51,
     "metadata": {},
     "output_type": "execute_result"
    }
   ],
   "source": [
    "sam_data = sma_data['region'].value_counts()\n",
    "sam_data"
   ],
   "metadata": {
    "collapsed": false
   }
  },
  {
   "cell_type": "code",
   "execution_count": 52,
   "outputs": [
    {
     "data": {
      "text/plain": "25"
     },
     "execution_count": 52,
     "metadata": {},
     "output_type": "execute_result"
    }
   ],
   "source": [
    "sam_data[2]"
   ],
   "metadata": {
    "collapsed": false
   }
  },
  {
   "cell_type": "code",
   "execution_count": 53,
   "outputs": [
    {
     "data": {
      "text/plain": "        math score  reading score  writing score\ncount  1000.000000     1000.00000    1000.000000\nmean     67.128000       70.17400      68.973000\nstd      14.815367       14.85599      15.109155\nmin      15.000000       18.00000      10.000000\n25%      58.000000       60.00000      59.000000\n50%      67.000000       70.00000      69.000000\n75%      78.000000       81.00000      80.000000\nmax     100.000000      100.00000     100.000000",
      "text/html": "<div>\n<style scoped>\n    .dataframe tbody tr th:only-of-type {\n        vertical-align: middle;\n    }\n\n    .dataframe tbody tr th {\n        vertical-align: top;\n    }\n\n    .dataframe thead th {\n        text-align: right;\n    }\n</style>\n<table border=\"1\" class=\"dataframe\">\n  <thead>\n    <tr style=\"text-align: right;\">\n      <th></th>\n      <th>math score</th>\n      <th>reading score</th>\n      <th>writing score</th>\n    </tr>\n  </thead>\n  <tbody>\n    <tr>\n      <th>count</th>\n      <td>1000.000000</td>\n      <td>1000.00000</td>\n      <td>1000.000000</td>\n    </tr>\n    <tr>\n      <th>mean</th>\n      <td>67.128000</td>\n      <td>70.17400</td>\n      <td>68.973000</td>\n    </tr>\n    <tr>\n      <th>std</th>\n      <td>14.815367</td>\n      <td>14.85599</td>\n      <td>15.109155</td>\n    </tr>\n    <tr>\n      <th>min</th>\n      <td>15.000000</td>\n      <td>18.00000</td>\n      <td>10.000000</td>\n    </tr>\n    <tr>\n      <th>25%</th>\n      <td>58.000000</td>\n      <td>60.00000</td>\n      <td>59.000000</td>\n    </tr>\n    <tr>\n      <th>50%</th>\n      <td>67.000000</td>\n      <td>70.00000</td>\n      <td>69.000000</td>\n    </tr>\n    <tr>\n      <th>75%</th>\n      <td>78.000000</td>\n      <td>81.00000</td>\n      <td>80.000000</td>\n    </tr>\n    <tr>\n      <th>max</th>\n      <td>100.000000</td>\n      <td>100.00000</td>\n      <td>100.000000</td>\n    </tr>\n  </tbody>\n</table>\n</div>"
     },
     "execution_count": 53,
     "metadata": {},
     "output_type": "execute_result"
    }
   ],
   "source": [
    "exam_scores.describe()    #  summary of numerical columns "
   ],
   "metadata": {
    "collapsed": false
   }
  },
  {
   "cell_type": "code",
   "execution_count": 54,
   "outputs": [
    {
     "data": {
      "text/plain": "        gender race/ethnicity parental level of education     lunch  \\\ncount     1000           1000                        1000      1000   \nunique       2              5                           6         2   \ntop     female        group C                some college  standard   \nfreq       502            294                         226       649   \n\n       test preparation course  \ncount                     1000  \nunique                       2  \ntop                       none  \nfreq                       654  ",
      "text/html": "<div>\n<style scoped>\n    .dataframe tbody tr th:only-of-type {\n        vertical-align: middle;\n    }\n\n    .dataframe tbody tr th {\n        vertical-align: top;\n    }\n\n    .dataframe thead th {\n        text-align: right;\n    }\n</style>\n<table border=\"1\" class=\"dataframe\">\n  <thead>\n    <tr style=\"text-align: right;\">\n      <th></th>\n      <th>gender</th>\n      <th>race/ethnicity</th>\n      <th>parental level of education</th>\n      <th>lunch</th>\n      <th>test preparation course</th>\n    </tr>\n  </thead>\n  <tbody>\n    <tr>\n      <th>count</th>\n      <td>1000</td>\n      <td>1000</td>\n      <td>1000</td>\n      <td>1000</td>\n      <td>1000</td>\n    </tr>\n    <tr>\n      <th>unique</th>\n      <td>2</td>\n      <td>5</td>\n      <td>6</td>\n      <td>2</td>\n      <td>2</td>\n    </tr>\n    <tr>\n      <th>top</th>\n      <td>female</td>\n      <td>group C</td>\n      <td>some college</td>\n      <td>standard</td>\n      <td>none</td>\n    </tr>\n    <tr>\n      <th>freq</th>\n      <td>502</td>\n      <td>294</td>\n      <td>226</td>\n      <td>649</td>\n      <td>654</td>\n    </tr>\n  </tbody>\n</table>\n</div>"
     },
     "execution_count": 54,
     "metadata": {},
     "output_type": "execute_result"
    }
   ],
   "source": [
    "exam_scores.describe(include='object')      #  summary is all about the categorical columns."
   ],
   "metadata": {
    "collapsed": false
   }
  },
  {
   "cell_type": "code",
   "execution_count": 55,
   "outputs": [
    {
     "data": {
      "text/plain": "        gender race/ethnicity parental level of education     lunch  \\\ncount     1000           1000                        1000      1000   \nunique       2              5                           6         2   \ntop     female        group C                some college  standard   \nfreq       502            294                         226       649   \nmean       NaN            NaN                         NaN       NaN   \nstd        NaN            NaN                         NaN       NaN   \nmin        NaN            NaN                         NaN       NaN   \n25%        NaN            NaN                         NaN       NaN   \n50%        NaN            NaN                         NaN       NaN   \n75%        NaN            NaN                         NaN       NaN   \nmax        NaN            NaN                         NaN       NaN   \n\n       test preparation course   math score  reading score  writing score  \ncount                     1000  1000.000000     1000.00000    1000.000000  \nunique                       2          NaN            NaN            NaN  \ntop                       none          NaN            NaN            NaN  \nfreq                       654          NaN            NaN            NaN  \nmean                       NaN    67.128000       70.17400      68.973000  \nstd                        NaN    14.815367       14.85599      15.109155  \nmin                        NaN    15.000000       18.00000      10.000000  \n25%                        NaN    58.000000       60.00000      59.000000  \n50%                        NaN    67.000000       70.00000      69.000000  \n75%                        NaN    78.000000       81.00000      80.000000  \nmax                        NaN   100.000000      100.00000     100.000000  ",
      "text/html": "<div>\n<style scoped>\n    .dataframe tbody tr th:only-of-type {\n        vertical-align: middle;\n    }\n\n    .dataframe tbody tr th {\n        vertical-align: top;\n    }\n\n    .dataframe thead th {\n        text-align: right;\n    }\n</style>\n<table border=\"1\" class=\"dataframe\">\n  <thead>\n    <tr style=\"text-align: right;\">\n      <th></th>\n      <th>gender</th>\n      <th>race/ethnicity</th>\n      <th>parental level of education</th>\n      <th>lunch</th>\n      <th>test preparation course</th>\n      <th>math score</th>\n      <th>reading score</th>\n      <th>writing score</th>\n    </tr>\n  </thead>\n  <tbody>\n    <tr>\n      <th>count</th>\n      <td>1000</td>\n      <td>1000</td>\n      <td>1000</td>\n      <td>1000</td>\n      <td>1000</td>\n      <td>1000.000000</td>\n      <td>1000.00000</td>\n      <td>1000.000000</td>\n    </tr>\n    <tr>\n      <th>unique</th>\n      <td>2</td>\n      <td>5</td>\n      <td>6</td>\n      <td>2</td>\n      <td>2</td>\n      <td>NaN</td>\n      <td>NaN</td>\n      <td>NaN</td>\n    </tr>\n    <tr>\n      <th>top</th>\n      <td>female</td>\n      <td>group C</td>\n      <td>some college</td>\n      <td>standard</td>\n      <td>none</td>\n      <td>NaN</td>\n      <td>NaN</td>\n      <td>NaN</td>\n    </tr>\n    <tr>\n      <th>freq</th>\n      <td>502</td>\n      <td>294</td>\n      <td>226</td>\n      <td>649</td>\n      <td>654</td>\n      <td>NaN</td>\n      <td>NaN</td>\n      <td>NaN</td>\n    </tr>\n    <tr>\n      <th>mean</th>\n      <td>NaN</td>\n      <td>NaN</td>\n      <td>NaN</td>\n      <td>NaN</td>\n      <td>NaN</td>\n      <td>67.128000</td>\n      <td>70.17400</td>\n      <td>68.973000</td>\n    </tr>\n    <tr>\n      <th>std</th>\n      <td>NaN</td>\n      <td>NaN</td>\n      <td>NaN</td>\n      <td>NaN</td>\n      <td>NaN</td>\n      <td>14.815367</td>\n      <td>14.85599</td>\n      <td>15.109155</td>\n    </tr>\n    <tr>\n      <th>min</th>\n      <td>NaN</td>\n      <td>NaN</td>\n      <td>NaN</td>\n      <td>NaN</td>\n      <td>NaN</td>\n      <td>15.000000</td>\n      <td>18.00000</td>\n      <td>10.000000</td>\n    </tr>\n    <tr>\n      <th>25%</th>\n      <td>NaN</td>\n      <td>NaN</td>\n      <td>NaN</td>\n      <td>NaN</td>\n      <td>NaN</td>\n      <td>58.000000</td>\n      <td>60.00000</td>\n      <td>59.000000</td>\n    </tr>\n    <tr>\n      <th>50%</th>\n      <td>NaN</td>\n      <td>NaN</td>\n      <td>NaN</td>\n      <td>NaN</td>\n      <td>NaN</td>\n      <td>67.000000</td>\n      <td>70.00000</td>\n      <td>69.000000</td>\n    </tr>\n    <tr>\n      <th>75%</th>\n      <td>NaN</td>\n      <td>NaN</td>\n      <td>NaN</td>\n      <td>NaN</td>\n      <td>NaN</td>\n      <td>78.000000</td>\n      <td>81.00000</td>\n      <td>80.000000</td>\n    </tr>\n    <tr>\n      <th>max</th>\n      <td>NaN</td>\n      <td>NaN</td>\n      <td>NaN</td>\n      <td>NaN</td>\n      <td>NaN</td>\n      <td>100.000000</td>\n      <td>100.00000</td>\n      <td>100.000000</td>\n    </tr>\n  </tbody>\n</table>\n</div>"
     },
     "execution_count": 55,
     "metadata": {},
     "output_type": "execute_result"
    }
   ],
   "source": [
    "exam_scores.describe(include='all')  # a summary of numerical and categorical columns together"
   ],
   "metadata": {
    "collapsed": false
   }
  },
  {
   "cell_type": "markdown",
   "source": [
    "-  A categorical column cannot have minimum or maximum values or mean and median. So the entries in these fields for categorical columns are NaN"
   ],
   "metadata": {
    "collapsed": false
   }
  },
  {
   "cell_type": "markdown",
   "source": [
    "- count shows the number of non-null values/ entries in a particular column\n",
    "- unique shows the count of unique values in a particular column\n",
    "- top is also for categorical columns. tells us which category is occurring maximum time like female in gender column\n",
    "- freq is again for categorical columns: gives the number of occurrences of the top category in that column\n",
    "- mean: the mean value of the numerical column\n",
    "- std: standard deviation of the numerical column. tells you about the variation in the data\n",
    "- min: the minimum value in the numerical column\n",
    "- 25% the 25th percentile or 1st quartile value in the numerical column, eg math score is 58\n",
    "- 50% the 50th percentile value in the numerical column, median math score is 67\n",
    "- 75% the 75 percentile value in the numerical column,  75th percentile value for math is 78\n",
    "- max: the maximum value of a numerical column\n",
    "- NaN: Nan values means that a particular summary value is not available. eg, gender a categorical column doesn't have mean or median value"
   ],
   "metadata": {
    "collapsed": false
   }
  },
  {
   "cell_type": "code",
   "execution_count": 56,
   "outputs": [
    {
     "data": {
      "text/plain": "count    1000.000000\nmean       67.128000\nstd        14.815367\nmin        15.000000\n25%        58.000000\n50%        67.000000\n75%        78.000000\nmax       100.000000\nName: math score, dtype: float64"
     },
     "execution_count": 56,
     "metadata": {},
     "output_type": "execute_result"
    }
   ],
   "source": [
    "exam_scores['math score'].describe()"
   ],
   "metadata": {
    "collapsed": false
   }
  },
  {
   "cell_type": "code",
   "execution_count": 57,
   "outputs": [
    {
     "name": "stderr",
     "output_type": "stream",
     "text": [
      "C:\\Users\\jason\\AppData\\Local\\Temp\\ipykernel_2392\\668518713.py:1: FutureWarning: The default value of numeric_only in DataFrame.mean is deprecated. In a future version, it will default to False. In addition, specifying 'numeric_only=None' is deprecated. Select only valid columns or specify the value of numeric_only to silence this warning.\n",
      "  exam_scores.mean()              # for numerical columns\n"
     ]
    },
    {
     "data": {
      "text/plain": "math score       67.128\nreading score    70.174\nwriting score    68.973\ndtype: float64"
     },
     "execution_count": 57,
     "metadata": {},
     "output_type": "execute_result"
    }
   ],
   "source": [
    "exam_scores.mean()              # for numerical columns"
   ],
   "metadata": {
    "collapsed": false
   }
  },
  {
   "cell_type": "code",
   "execution_count": 58,
   "outputs": [
    {
     "data": {
      "text/plain": "array(['male', 'female'], dtype=object)"
     },
     "execution_count": 58,
     "metadata": {},
     "output_type": "execute_result"
    }
   ],
   "source": [
    "exam_scores.gender.unique()        # returns all the unique values in a dataset"
   ],
   "metadata": {
    "collapsed": false
   }
  },
  {
   "cell_type": "code",
   "execution_count": 59,
   "outputs": [
    {
     "data": {
      "text/plain": "female    502\nmale      498\nName: gender, dtype: int64"
     },
     "execution_count": 59,
     "metadata": {},
     "output_type": "execute_result"
    }
   ],
   "source": [
    "exam_scores.gender.value_counts()            # 'female' is occurring 502"
   ],
   "metadata": {
    "collapsed": false
   }
  },
  {
   "cell_type": "code",
   "execution_count": 60,
   "outputs": [
    {
     "data": {
      "text/plain": "land_area         2615.727273\npercent_city        42.518182\npercent_senior       9.781818\nphysicians        1828.333333\nhospital_beds     6345.868687\ngraduates           54.463636\nwork_force         449.366667\nincome            6762.505051\nregion               2.494949\ncrime_rate          55.643030\ndtype: float64"
     },
     "execution_count": 60,
     "metadata": {},
     "output_type": "execute_result"
    }
   ],
   "source": [
    "sma_data.mean()"
   ],
   "metadata": {
    "collapsed": false
   }
  },
  {
   "cell_type": "code",
   "execution_count": 61,
   "outputs": [
    {
     "data": {
      "text/plain": "array([1, 2, 4, 3], dtype=int64)"
     },
     "execution_count": 61,
     "metadata": {},
     "output_type": "execute_result"
    }
   ],
   "source": [
    "sma_data.region.unique()"
   ],
   "metadata": {
    "collapsed": false
   }
  },
  {
   "cell_type": "code",
   "execution_count": 62,
   "outputs": [
    {
     "data": {
      "text/plain": "          land_area  percent_city  percent_senior    physicians  \\\ncount     99.000000     99.000000       99.000000     99.000000   \nmean    2615.727273     42.518182        9.781818   1828.333333   \nstd     3045.826210     17.348277        2.524547   3192.199763   \nmin       47.000000     13.400000        3.900000    140.000000   \n25%     1408.000000     30.100000        8.350000    459.000000   \n50%     1951.000000     39.500000        9.700000    774.000000   \n75%     2890.500000     52.600000       10.750000   1911.500000   \nmax    27293.000000    100.000000       21.800000  25627.000000   \n\n       hospital_beds  graduates   work_force        income     region  \\\ncount      99.000000  99.000000    99.000000     99.000000  99.000000   \nmean     6345.868687  54.463636   449.366667   6762.505051   2.494949   \nstd      9136.202716   7.773286   610.990885  10393.349660   1.013921   \nmin       481.000000  30.300000    66.900000    769.000000   1.000000   \n25%      2390.000000  50.250000   150.300000   2003.000000   2.000000   \n50%      3472.000000  54.000000   257.200000   3510.000000   3.000000   \n75%      6386.500000  58.300000   436.500000   6283.500000   3.000000   \nmax     69678.000000  72.800000  4083.900000  72100.000000   4.000000   \n\n       crime_rate  \ncount   99.000000  \nmean    55.643030  \nstd     13.470943  \nmin     23.320000  \n25%     46.115000  \n50%     56.060000  \n75%     63.860000  \nmax     85.620000  ",
      "text/html": "<div>\n<style scoped>\n    .dataframe tbody tr th:only-of-type {\n        vertical-align: middle;\n    }\n\n    .dataframe tbody tr th {\n        vertical-align: top;\n    }\n\n    .dataframe thead th {\n        text-align: right;\n    }\n</style>\n<table border=\"1\" class=\"dataframe\">\n  <thead>\n    <tr style=\"text-align: right;\">\n      <th></th>\n      <th>land_area</th>\n      <th>percent_city</th>\n      <th>percent_senior</th>\n      <th>physicians</th>\n      <th>hospital_beds</th>\n      <th>graduates</th>\n      <th>work_force</th>\n      <th>income</th>\n      <th>region</th>\n      <th>crime_rate</th>\n    </tr>\n  </thead>\n  <tbody>\n    <tr>\n      <th>count</th>\n      <td>99.000000</td>\n      <td>99.000000</td>\n      <td>99.000000</td>\n      <td>99.000000</td>\n      <td>99.000000</td>\n      <td>99.000000</td>\n      <td>99.000000</td>\n      <td>99.000000</td>\n      <td>99.000000</td>\n      <td>99.000000</td>\n    </tr>\n    <tr>\n      <th>mean</th>\n      <td>2615.727273</td>\n      <td>42.518182</td>\n      <td>9.781818</td>\n      <td>1828.333333</td>\n      <td>6345.868687</td>\n      <td>54.463636</td>\n      <td>449.366667</td>\n      <td>6762.505051</td>\n      <td>2.494949</td>\n      <td>55.643030</td>\n    </tr>\n    <tr>\n      <th>std</th>\n      <td>3045.826210</td>\n      <td>17.348277</td>\n      <td>2.524547</td>\n      <td>3192.199763</td>\n      <td>9136.202716</td>\n      <td>7.773286</td>\n      <td>610.990885</td>\n      <td>10393.349660</td>\n      <td>1.013921</td>\n      <td>13.470943</td>\n    </tr>\n    <tr>\n      <th>min</th>\n      <td>47.000000</td>\n      <td>13.400000</td>\n      <td>3.900000</td>\n      <td>140.000000</td>\n      <td>481.000000</td>\n      <td>30.300000</td>\n      <td>66.900000</td>\n      <td>769.000000</td>\n      <td>1.000000</td>\n      <td>23.320000</td>\n    </tr>\n    <tr>\n      <th>25%</th>\n      <td>1408.000000</td>\n      <td>30.100000</td>\n      <td>8.350000</td>\n      <td>459.000000</td>\n      <td>2390.000000</td>\n      <td>50.250000</td>\n      <td>150.300000</td>\n      <td>2003.000000</td>\n      <td>2.000000</td>\n      <td>46.115000</td>\n    </tr>\n    <tr>\n      <th>50%</th>\n      <td>1951.000000</td>\n      <td>39.500000</td>\n      <td>9.700000</td>\n      <td>774.000000</td>\n      <td>3472.000000</td>\n      <td>54.000000</td>\n      <td>257.200000</td>\n      <td>3510.000000</td>\n      <td>3.000000</td>\n      <td>56.060000</td>\n    </tr>\n    <tr>\n      <th>75%</th>\n      <td>2890.500000</td>\n      <td>52.600000</td>\n      <td>10.750000</td>\n      <td>1911.500000</td>\n      <td>6386.500000</td>\n      <td>58.300000</td>\n      <td>436.500000</td>\n      <td>6283.500000</td>\n      <td>3.000000</td>\n      <td>63.860000</td>\n    </tr>\n    <tr>\n      <th>max</th>\n      <td>27293.000000</td>\n      <td>100.000000</td>\n      <td>21.800000</td>\n      <td>25627.000000</td>\n      <td>69678.000000</td>\n      <td>72.800000</td>\n      <td>4083.900000</td>\n      <td>72100.000000</td>\n      <td>4.000000</td>\n      <td>85.620000</td>\n    </tr>\n  </tbody>\n</table>\n</div>"
     },
     "execution_count": 62,
     "metadata": {},
     "output_type": "execute_result"
    }
   ],
   "source": [
    "sma_data.describe()"
   ],
   "metadata": {
    "collapsed": false
   }
  },
  {
   "cell_type": "code",
   "execution_count": 63,
   "outputs": [
    {
     "data": {
      "text/plain": "3    36\n2    25\n1    21\n4    17\nName: region, dtype: int64"
     },
     "execution_count": 63,
     "metadata": {},
     "output_type": "execute_result"
    }
   ],
   "source": [
    "sma_data['region'].value_counts()"
   ],
   "metadata": {
    "collapsed": false
   }
  },
  {
   "cell_type": "code",
   "execution_count": 64,
   "outputs": [],
   "source": [
    "sma_data_region =  sma_data[sma_data['region'] == 3]"
   ],
   "metadata": {
    "collapsed": false
   }
  },
  {
   "cell_type": "code",
   "execution_count": 65,
   "outputs": [
    {
     "data": {
      "text/plain": "land_area         2485.972222\npercent_city        46.172222\npercent_senior       9.283333\nphysicians        1313.722222\nhospital_beds     4962.777778\ngraduates           51.002778\nwork_force         343.797222\nincome            4806.861111\nregion               3.000000\ncrime_rate          58.265556\ndtype: float64"
     },
     "execution_count": 65,
     "metadata": {},
     "output_type": "execute_result"
    }
   ],
   "source": [
    "sma_data_region.mean()"
   ],
   "metadata": {
    "collapsed": false
   }
  },
  {
   "cell_type": "code",
   "execution_count": 66,
   "outputs": [
    {
     "data": {
      "text/plain": "         land_area  percent_city  percent_senior   physicians  hospital_beds  \\\ncount    36.000000     36.000000       36.000000    36.000000      36.000000   \nmean   2485.972222     46.172222        9.283333  1313.722222    4962.777778   \nstd    1653.813800     19.101019        3.458199  1459.654903    3879.692625   \nmin     654.000000     14.500000        3.900000   140.000000     481.000000   \n25%    1517.000000     31.350000        7.600000   509.750000    2483.500000   \n50%    2018.000000     47.000000        8.850000   767.000000    3876.000000   \n75%    2911.000000     59.725000        9.975000  1583.500000    5811.750000   \nmax    8360.000000     90.700000       21.800000  7340.000000   16941.000000   \n\n       graduates   work_force        income  region  crime_rate  \ncount  36.000000    36.000000     36.000000    36.0   36.000000  \nmean   51.002778   343.797222   4806.861111     3.0   58.265556  \nstd     7.328164   354.312228   5452.647656     0.0   10.155822  \nmin    30.300000    66.900000    769.000000     3.0   36.360000  \n25%    46.950000   146.200000   1940.750000     3.0   52.447500  \n50%    50.950000   230.550000   2976.500000     3.0   58.725000  \n75%    55.175000   366.950000   4829.500000     3.0   64.922500  \nmax    70.700000  1541.900000  25663.000000     3.0   76.350000  ",
      "text/html": "<div>\n<style scoped>\n    .dataframe tbody tr th:only-of-type {\n        vertical-align: middle;\n    }\n\n    .dataframe tbody tr th {\n        vertical-align: top;\n    }\n\n    .dataframe thead th {\n        text-align: right;\n    }\n</style>\n<table border=\"1\" class=\"dataframe\">\n  <thead>\n    <tr style=\"text-align: right;\">\n      <th></th>\n      <th>land_area</th>\n      <th>percent_city</th>\n      <th>percent_senior</th>\n      <th>physicians</th>\n      <th>hospital_beds</th>\n      <th>graduates</th>\n      <th>work_force</th>\n      <th>income</th>\n      <th>region</th>\n      <th>crime_rate</th>\n    </tr>\n  </thead>\n  <tbody>\n    <tr>\n      <th>count</th>\n      <td>36.000000</td>\n      <td>36.000000</td>\n      <td>36.000000</td>\n      <td>36.000000</td>\n      <td>36.000000</td>\n      <td>36.000000</td>\n      <td>36.000000</td>\n      <td>36.000000</td>\n      <td>36.0</td>\n      <td>36.000000</td>\n    </tr>\n    <tr>\n      <th>mean</th>\n      <td>2485.972222</td>\n      <td>46.172222</td>\n      <td>9.283333</td>\n      <td>1313.722222</td>\n      <td>4962.777778</td>\n      <td>51.002778</td>\n      <td>343.797222</td>\n      <td>4806.861111</td>\n      <td>3.0</td>\n      <td>58.265556</td>\n    </tr>\n    <tr>\n      <th>std</th>\n      <td>1653.813800</td>\n      <td>19.101019</td>\n      <td>3.458199</td>\n      <td>1459.654903</td>\n      <td>3879.692625</td>\n      <td>7.328164</td>\n      <td>354.312228</td>\n      <td>5452.647656</td>\n      <td>0.0</td>\n      <td>10.155822</td>\n    </tr>\n    <tr>\n      <th>min</th>\n      <td>654.000000</td>\n      <td>14.500000</td>\n      <td>3.900000</td>\n      <td>140.000000</td>\n      <td>481.000000</td>\n      <td>30.300000</td>\n      <td>66.900000</td>\n      <td>769.000000</td>\n      <td>3.0</td>\n      <td>36.360000</td>\n    </tr>\n    <tr>\n      <th>25%</th>\n      <td>1517.000000</td>\n      <td>31.350000</td>\n      <td>7.600000</td>\n      <td>509.750000</td>\n      <td>2483.500000</td>\n      <td>46.950000</td>\n      <td>146.200000</td>\n      <td>1940.750000</td>\n      <td>3.0</td>\n      <td>52.447500</td>\n    </tr>\n    <tr>\n      <th>50%</th>\n      <td>2018.000000</td>\n      <td>47.000000</td>\n      <td>8.850000</td>\n      <td>767.000000</td>\n      <td>3876.000000</td>\n      <td>50.950000</td>\n      <td>230.550000</td>\n      <td>2976.500000</td>\n      <td>3.0</td>\n      <td>58.725000</td>\n    </tr>\n    <tr>\n      <th>75%</th>\n      <td>2911.000000</td>\n      <td>59.725000</td>\n      <td>9.975000</td>\n      <td>1583.500000</td>\n      <td>5811.750000</td>\n      <td>55.175000</td>\n      <td>366.950000</td>\n      <td>4829.500000</td>\n      <td>3.0</td>\n      <td>64.922500</td>\n    </tr>\n    <tr>\n      <th>max</th>\n      <td>8360.000000</td>\n      <td>90.700000</td>\n      <td>21.800000</td>\n      <td>7340.000000</td>\n      <td>16941.000000</td>\n      <td>70.700000</td>\n      <td>1541.900000</td>\n      <td>25663.000000</td>\n      <td>3.0</td>\n      <td>76.350000</td>\n    </tr>\n  </tbody>\n</table>\n</div>"
     },
     "execution_count": 66,
     "metadata": {},
     "output_type": "execute_result"
    }
   ],
   "source": [
    "sma_data_region.describe()"
   ],
   "metadata": {
    "collapsed": false
   }
  },
  {
   "cell_type": "code",
   "execution_count": 67,
   "outputs": [
    {
     "data": {
      "text/plain": "    gender race/ethnicity parental level of education     lunch  \\\n91    male        group D          associate's degree  standard   \n776   male        group E          associate's degree  standard   \n588   male        group D                some college  standard   \n128   male        group A          associate's degree  standard   \n565   male        group E           bachelor's degree  standard   \n\n    test preparation course  math score  reading score  writing score  \n91                     none         100             94             96  \n776               completed         100            100            100  \n588               completed         100             85             91  \n128               completed         100             97             94  \n565               completed         100            100            100  ",
      "text/html": "<div>\n<style scoped>\n    .dataframe tbody tr th:only-of-type {\n        vertical-align: middle;\n    }\n\n    .dataframe tbody tr th {\n        vertical-align: top;\n    }\n\n    .dataframe thead th {\n        text-align: right;\n    }\n</style>\n<table border=\"1\" class=\"dataframe\">\n  <thead>\n    <tr style=\"text-align: right;\">\n      <th></th>\n      <th>gender</th>\n      <th>race/ethnicity</th>\n      <th>parental level of education</th>\n      <th>lunch</th>\n      <th>test preparation course</th>\n      <th>math score</th>\n      <th>reading score</th>\n      <th>writing score</th>\n    </tr>\n  </thead>\n  <tbody>\n    <tr>\n      <th>91</th>\n      <td>male</td>\n      <td>group D</td>\n      <td>associate's degree</td>\n      <td>standard</td>\n      <td>none</td>\n      <td>100</td>\n      <td>94</td>\n      <td>96</td>\n    </tr>\n    <tr>\n      <th>776</th>\n      <td>male</td>\n      <td>group E</td>\n      <td>associate's degree</td>\n      <td>standard</td>\n      <td>completed</td>\n      <td>100</td>\n      <td>100</td>\n      <td>100</td>\n    </tr>\n    <tr>\n      <th>588</th>\n      <td>male</td>\n      <td>group D</td>\n      <td>some college</td>\n      <td>standard</td>\n      <td>completed</td>\n      <td>100</td>\n      <td>85</td>\n      <td>91</td>\n    </tr>\n    <tr>\n      <th>128</th>\n      <td>male</td>\n      <td>group A</td>\n      <td>associate's degree</td>\n      <td>standard</td>\n      <td>completed</td>\n      <td>100</td>\n      <td>97</td>\n      <td>94</td>\n    </tr>\n    <tr>\n      <th>565</th>\n      <td>male</td>\n      <td>group E</td>\n      <td>bachelor's degree</td>\n      <td>standard</td>\n      <td>completed</td>\n      <td>100</td>\n      <td>100</td>\n      <td>100</td>\n    </tr>\n  </tbody>\n</table>\n</div>"
     },
     "execution_count": 67,
     "metadata": {},
     "output_type": "execute_result"
    }
   ],
   "source": [
    "exam_scores.sort_values(by='math score', ascending=False).head()     # sorting the column on the basis of math result"
   ],
   "metadata": {
    "collapsed": false
   }
  },
  {
   "cell_type": "code",
   "execution_count": 68,
   "outputs": [
    {
     "data": {
      "text/plain": "     gender race/ethnicity parental level of education         lunch  \\\n949    male        group C                 high school  free/reduced   \n854    male        group C                 high school  free/reduced   \n891  female        group C                 high school  free/reduced   \n349    male        group B            some high school  free/reduced   \n739  female        group E            some high school  free/reduced   \n\n    test preparation course  math score  reading score  writing score  \n949                    none          15             18             10  \n854                    none          18             30             18  \n891                    none          23             31             27  \n349                    none          25             31             30  \n739                    none          25             35             38  ",
      "text/html": "<div>\n<style scoped>\n    .dataframe tbody tr th:only-of-type {\n        vertical-align: middle;\n    }\n\n    .dataframe tbody tr th {\n        vertical-align: top;\n    }\n\n    .dataframe thead th {\n        text-align: right;\n    }\n</style>\n<table border=\"1\" class=\"dataframe\">\n  <thead>\n    <tr style=\"text-align: right;\">\n      <th></th>\n      <th>gender</th>\n      <th>race/ethnicity</th>\n      <th>parental level of education</th>\n      <th>lunch</th>\n      <th>test preparation course</th>\n      <th>math score</th>\n      <th>reading score</th>\n      <th>writing score</th>\n    </tr>\n  </thead>\n  <tbody>\n    <tr>\n      <th>949</th>\n      <td>male</td>\n      <td>group C</td>\n      <td>high school</td>\n      <td>free/reduced</td>\n      <td>none</td>\n      <td>15</td>\n      <td>18</td>\n      <td>10</td>\n    </tr>\n    <tr>\n      <th>854</th>\n      <td>male</td>\n      <td>group C</td>\n      <td>high school</td>\n      <td>free/reduced</td>\n      <td>none</td>\n      <td>18</td>\n      <td>30</td>\n      <td>18</td>\n    </tr>\n    <tr>\n      <th>891</th>\n      <td>female</td>\n      <td>group C</td>\n      <td>high school</td>\n      <td>free/reduced</td>\n      <td>none</td>\n      <td>23</td>\n      <td>31</td>\n      <td>27</td>\n    </tr>\n    <tr>\n      <th>349</th>\n      <td>male</td>\n      <td>group B</td>\n      <td>some high school</td>\n      <td>free/reduced</td>\n      <td>none</td>\n      <td>25</td>\n      <td>31</td>\n      <td>30</td>\n    </tr>\n    <tr>\n      <th>739</th>\n      <td>female</td>\n      <td>group E</td>\n      <td>some high school</td>\n      <td>free/reduced</td>\n      <td>none</td>\n      <td>25</td>\n      <td>35</td>\n      <td>38</td>\n    </tr>\n  </tbody>\n</table>\n</div>"
     },
     "execution_count": 68,
     "metadata": {},
     "output_type": "execute_result"
    }
   ],
   "source": [
    "exam_scores.sort_values(by='math score').head()  # on the basis of the lowest scores obtained\n"
   ],
   "metadata": {
    "collapsed": false
   }
  },
  {
   "cell_type": "code",
   "execution_count": 69,
   "outputs": [
    {
     "name": "stderr",
     "output_type": "stream",
     "text": [
      "C:\\Users\\jason\\AppData\\Local\\Temp\\ipykernel_2392\\1227249992.py:1: FutureWarning: The behavior of `series[i:j]` with an integer-dtype index is deprecated. In a future version, this will be treated as *label-based* indexing, consistent with e.g. `series[i]` lookups. To retain the old behavior, use `series.iloc[i:j]`. To get the future behavior, use `series.loc[i:j]`.\n",
      "  exam_scores['math score'].sort_values()[:8]\n"
     ]
    },
    {
     "data": {
      "text/plain": "949    15\n854    18\n891    23\n349    25\n739    25\n316    28\n310    30\n413    31\nName: math score, dtype: int64"
     },
     "execution_count": 69,
     "metadata": {},
     "output_type": "execute_result"
    }
   ],
   "source": [
    "exam_scores['math score'].sort_values()[:8]"
   ],
   "metadata": {
    "collapsed": false
   }
  },
  {
   "cell_type": "code",
   "execution_count": 70,
   "outputs": [
    {
     "data": {
      "text/plain": "0    74\n1    58\n2    66\n3    74\n4    78\n5    75\n6    69\nName: math score, dtype: int64"
     },
     "execution_count": 70,
     "metadata": {},
     "output_type": "execute_result"
    }
   ],
   "source": [
    "exam_scores['math score'].iloc[:7]"
   ],
   "metadata": {
    "collapsed": false
   }
  },
  {
   "cell_type": "code",
   "execution_count": 71,
   "outputs": [
    {
     "data": {
      "text/plain": "Index(['gender', 'race/ethnicity', 'parental level of education', 'lunch',\n       'test preparation course', 'math score', 'reading score',\n       'writing score'],\n      dtype='object')"
     },
     "execution_count": 71,
     "metadata": {},
     "output_type": "execute_result"
    }
   ],
   "source": [
    "exam_scores.columns"
   ],
   "metadata": {
    "collapsed": false
   }
  },
  {
   "cell_type": "code",
   "execution_count": 72,
   "outputs": [],
   "source": [
    "exam_scores.rename(columns={'race/ethnicity': 'race',\n",
    "                            'parental level of education': 'parental_education_level',\n",
    "                            'test preparation course': 'test_prep_course',\n",
    "                            'math score': 'math_score',\n",
    "                            'reading score': 'reading_score',\n",
    "                            'writing score': 'writing_score'}, inplace=True)"
   ],
   "metadata": {
    "collapsed": false
   }
  },
  {
   "cell_type": "code",
   "execution_count": 73,
   "outputs": [
    {
     "data": {
      "text/plain": "Index(['gender', 'race', 'parental_education_level', 'lunch',\n       'test_prep_course', 'math_score', 'reading_score', 'writing_score'],\n      dtype='object')"
     },
     "execution_count": 73,
     "metadata": {},
     "output_type": "execute_result"
    }
   ],
   "source": [
    "exam_scores.columns     # inplace =  True will make the changes in the original df"
   ],
   "metadata": {
    "collapsed": false
   }
  },
  {
   "cell_type": "code",
   "execution_count": 74,
   "outputs": [
    {
     "data": {
      "text/plain": "20    85.62\n74    82.68\n53    80.94\n4     80.19\n67    78.10\n      ...  \n8     30.51\n72    28.52\n76    25.49\n38    23.64\n70    23.32\nName: crime_rate, Length: 99, dtype: float64"
     },
     "execution_count": 74,
     "metadata": {},
     "output_type": "execute_result"
    }
   ],
   "source": [
    "sma_data['crime_rate'].sort_values(ascending=False)"
   ],
   "metadata": {
    "collapsed": false
   }
  },
  {
   "cell_type": "code",
   "execution_count": 75,
   "outputs": [
    {
     "data": {
      "text/plain": "    land_area  percent_city  percent_senior  physicians  hospital_beds  \\\n20       9155          53.8            11.1        2280           6450   \n74       1412          39.2            11.3         436           1837   \n53       5966          39.5             9.6         737           1907   \n4        2480          31.5            10.5        8502          16751   \n67       8152          22.3             9.1         405           1254   \n..        ...           ...             ...         ...            ...   \n8        3049          19.5            12.1        4005          21149   \n72       2658          39.0            12.2         365           5430   \n76        862          26.3            13.4         423           1929   \n38       1951          28.4            14.5         696           4843   \n70        946          16.4            11.1         366           1455   \n\n    graduates  work_force  income  region  crime_rate  \n20       60.1       575.2    7766       4       85.62  \n74       49.4       154.2    2098       4       82.68  \n53       52.7       246.6    3007       4       80.94  \n4        66.1      1514.5   26573       4       80.19  \n67       51.7       165.6    2257       4       78.10  \n..        ...         ...     ...     ...         ...  \n8        53.4       967.5   15826       1       30.51  \n72       49.9       136.9    1862       1       28.52  \n76       43.3       145.5    2010       1       25.49  \n38       47.9       271.5    3667       1       23.64  \n70       43.9       163.8    2178       1       23.32  \n\n[99 rows x 10 columns]",
      "text/html": "<div>\n<style scoped>\n    .dataframe tbody tr th:only-of-type {\n        vertical-align: middle;\n    }\n\n    .dataframe tbody tr th {\n        vertical-align: top;\n    }\n\n    .dataframe thead th {\n        text-align: right;\n    }\n</style>\n<table border=\"1\" class=\"dataframe\">\n  <thead>\n    <tr style=\"text-align: right;\">\n      <th></th>\n      <th>land_area</th>\n      <th>percent_city</th>\n      <th>percent_senior</th>\n      <th>physicians</th>\n      <th>hospital_beds</th>\n      <th>graduates</th>\n      <th>work_force</th>\n      <th>income</th>\n      <th>region</th>\n      <th>crime_rate</th>\n    </tr>\n  </thead>\n  <tbody>\n    <tr>\n      <th>20</th>\n      <td>9155</td>\n      <td>53.8</td>\n      <td>11.1</td>\n      <td>2280</td>\n      <td>6450</td>\n      <td>60.1</td>\n      <td>575.2</td>\n      <td>7766</td>\n      <td>4</td>\n      <td>85.62</td>\n    </tr>\n    <tr>\n      <th>74</th>\n      <td>1412</td>\n      <td>39.2</td>\n      <td>11.3</td>\n      <td>436</td>\n      <td>1837</td>\n      <td>49.4</td>\n      <td>154.2</td>\n      <td>2098</td>\n      <td>4</td>\n      <td>82.68</td>\n    </tr>\n    <tr>\n      <th>53</th>\n      <td>5966</td>\n      <td>39.5</td>\n      <td>9.6</td>\n      <td>737</td>\n      <td>1907</td>\n      <td>52.7</td>\n      <td>246.6</td>\n      <td>3007</td>\n      <td>4</td>\n      <td>80.94</td>\n    </tr>\n    <tr>\n      <th>4</th>\n      <td>2480</td>\n      <td>31.5</td>\n      <td>10.5</td>\n      <td>8502</td>\n      <td>16751</td>\n      <td>66.1</td>\n      <td>1514.5</td>\n      <td>26573</td>\n      <td>4</td>\n      <td>80.19</td>\n    </tr>\n    <tr>\n      <th>67</th>\n      <td>8152</td>\n      <td>22.3</td>\n      <td>9.1</td>\n      <td>405</td>\n      <td>1254</td>\n      <td>51.7</td>\n      <td>165.6</td>\n      <td>2257</td>\n      <td>4</td>\n      <td>78.10</td>\n    </tr>\n    <tr>\n      <th>...</th>\n      <td>...</td>\n      <td>...</td>\n      <td>...</td>\n      <td>...</td>\n      <td>...</td>\n      <td>...</td>\n      <td>...</td>\n      <td>...</td>\n      <td>...</td>\n      <td>...</td>\n    </tr>\n    <tr>\n      <th>8</th>\n      <td>3049</td>\n      <td>19.5</td>\n      <td>12.1</td>\n      <td>4005</td>\n      <td>21149</td>\n      <td>53.4</td>\n      <td>967.5</td>\n      <td>15826</td>\n      <td>1</td>\n      <td>30.51</td>\n    </tr>\n    <tr>\n      <th>72</th>\n      <td>2658</td>\n      <td>39.0</td>\n      <td>12.2</td>\n      <td>365</td>\n      <td>5430</td>\n      <td>49.9</td>\n      <td>136.9</td>\n      <td>1862</td>\n      <td>1</td>\n      <td>28.52</td>\n    </tr>\n    <tr>\n      <th>76</th>\n      <td>862</td>\n      <td>26.3</td>\n      <td>13.4</td>\n      <td>423</td>\n      <td>1929</td>\n      <td>43.3</td>\n      <td>145.5</td>\n      <td>2010</td>\n      <td>1</td>\n      <td>25.49</td>\n    </tr>\n    <tr>\n      <th>38</th>\n      <td>1951</td>\n      <td>28.4</td>\n      <td>14.5</td>\n      <td>696</td>\n      <td>4843</td>\n      <td>47.9</td>\n      <td>271.5</td>\n      <td>3667</td>\n      <td>1</td>\n      <td>23.64</td>\n    </tr>\n    <tr>\n      <th>70</th>\n      <td>946</td>\n      <td>16.4</td>\n      <td>11.1</td>\n      <td>366</td>\n      <td>1455</td>\n      <td>43.9</td>\n      <td>163.8</td>\n      <td>2178</td>\n      <td>1</td>\n      <td>23.32</td>\n    </tr>\n  </tbody>\n</table>\n<p>99 rows × 10 columns</p>\n</div>"
     },
     "execution_count": 75,
     "metadata": {},
     "output_type": "execute_result"
    }
   ],
   "source": [
    "sma_data.sort_values(by='crime_rate', ascending=False)"
   ],
   "metadata": {
    "collapsed": false
   }
  },
  {
   "cell_type": "code",
   "execution_count": 76,
   "outputs": [],
   "source": [
    "titanic_data = \"https://raw.githubusercontent.com/dphi-official/Datasets/master/titanic_data.csv\""
   ],
   "metadata": {
    "collapsed": false
   }
  },
  {
   "cell_type": "code",
   "execution_count": 77,
   "outputs": [],
   "source": [
    "df = pd.read_csv(titanic_data)"
   ],
   "metadata": {
    "collapsed": false
   }
  },
  {
   "cell_type": "code",
   "execution_count": 78,
   "outputs": [
    {
     "data": {
      "text/plain": "   PassengerId  Survived  Pclass  \\\n0            1         0       3   \n1            2         1       1   \n2            3         1       3   \n3            4         1       1   \n4            5         0       3   \n\n                                                Name     Sex   Age  SibSp  \\\n0                            Braund, Mr. Owen Harris    male  22.0      1   \n1  Cumings, Mrs. John Bradley (Florence Briggs Th...  female  38.0      1   \n2                             Heikkinen, Miss. Laina  female  26.0      0   \n3       Futrelle, Mrs. Jacques Heath (Lily May Peel)  female  35.0      1   \n4                           Allen, Mr. William Henry    male  35.0      0   \n\n   Parch            Ticket     Fare Cabin Embarked  \n0      0         A/5 21171   7.2500   NaN        S  \n1      0          PC 17599  71.2833   C85        C  \n2      0  STON/O2. 3101282   7.9250   NaN        S  \n3      0            113803  53.1000  C123        S  \n4      0            373450   8.0500   NaN        S  ",
      "text/html": "<div>\n<style scoped>\n    .dataframe tbody tr th:only-of-type {\n        vertical-align: middle;\n    }\n\n    .dataframe tbody tr th {\n        vertical-align: top;\n    }\n\n    .dataframe thead th {\n        text-align: right;\n    }\n</style>\n<table border=\"1\" class=\"dataframe\">\n  <thead>\n    <tr style=\"text-align: right;\">\n      <th></th>\n      <th>PassengerId</th>\n      <th>Survived</th>\n      <th>Pclass</th>\n      <th>Name</th>\n      <th>Sex</th>\n      <th>Age</th>\n      <th>SibSp</th>\n      <th>Parch</th>\n      <th>Ticket</th>\n      <th>Fare</th>\n      <th>Cabin</th>\n      <th>Embarked</th>\n    </tr>\n  </thead>\n  <tbody>\n    <tr>\n      <th>0</th>\n      <td>1</td>\n      <td>0</td>\n      <td>3</td>\n      <td>Braund, Mr. Owen Harris</td>\n      <td>male</td>\n      <td>22.0</td>\n      <td>1</td>\n      <td>0</td>\n      <td>A/5 21171</td>\n      <td>7.2500</td>\n      <td>NaN</td>\n      <td>S</td>\n    </tr>\n    <tr>\n      <th>1</th>\n      <td>2</td>\n      <td>1</td>\n      <td>1</td>\n      <td>Cumings, Mrs. John Bradley (Florence Briggs Th...</td>\n      <td>female</td>\n      <td>38.0</td>\n      <td>1</td>\n      <td>0</td>\n      <td>PC 17599</td>\n      <td>71.2833</td>\n      <td>C85</td>\n      <td>C</td>\n    </tr>\n    <tr>\n      <th>2</th>\n      <td>3</td>\n      <td>1</td>\n      <td>3</td>\n      <td>Heikkinen, Miss. Laina</td>\n      <td>female</td>\n      <td>26.0</td>\n      <td>0</td>\n      <td>0</td>\n      <td>STON/O2. 3101282</td>\n      <td>7.9250</td>\n      <td>NaN</td>\n      <td>S</td>\n    </tr>\n    <tr>\n      <th>3</th>\n      <td>4</td>\n      <td>1</td>\n      <td>1</td>\n      <td>Futrelle, Mrs. Jacques Heath (Lily May Peel)</td>\n      <td>female</td>\n      <td>35.0</td>\n      <td>1</td>\n      <td>0</td>\n      <td>113803</td>\n      <td>53.1000</td>\n      <td>C123</td>\n      <td>S</td>\n    </tr>\n    <tr>\n      <th>4</th>\n      <td>5</td>\n      <td>0</td>\n      <td>3</td>\n      <td>Allen, Mr. William Henry</td>\n      <td>male</td>\n      <td>35.0</td>\n      <td>0</td>\n      <td>0</td>\n      <td>373450</td>\n      <td>8.0500</td>\n      <td>NaN</td>\n      <td>S</td>\n    </tr>\n  </tbody>\n</table>\n</div>"
     },
     "execution_count": 78,
     "metadata": {},
     "output_type": "execute_result"
    }
   ],
   "source": [
    "df.head()"
   ],
   "metadata": {
    "collapsed": false
   }
  },
  {
   "cell_type": "code",
   "execution_count": 80,
   "outputs": [
    {
     "data": {
      "text/plain": "PassengerId      0\nSurvived         0\nPclass           0\nName             0\nSex              0\nAge            177\nSibSp            0\nParch            0\nTicket           0\nFare             0\nCabin          687\nEmbarked         2\ndtype: int64"
     },
     "execution_count": 80,
     "metadata": {},
     "output_type": "execute_result"
    }
   ],
   "source": [
    "df.isnull().sum()"
   ],
   "metadata": {
    "collapsed": false
   }
  },
  {
   "cell_type": "code",
   "execution_count": 81,
   "outputs": [
    {
     "data": {
      "text/plain": "<bound method DataFrame.info of      PassengerId  Survived  Pclass  \\\n0              1         0       3   \n1              2         1       1   \n2              3         1       3   \n3              4         1       1   \n4              5         0       3   \n..           ...       ...     ...   \n886          887         0       2   \n887          888         1       1   \n888          889         0       3   \n889          890         1       1   \n890          891         0       3   \n\n                                                  Name     Sex   Age  SibSp  \\\n0                              Braund, Mr. Owen Harris    male  22.0      1   \n1    Cumings, Mrs. John Bradley (Florence Briggs Th...  female  38.0      1   \n2                               Heikkinen, Miss. Laina  female  26.0      0   \n3         Futrelle, Mrs. Jacques Heath (Lily May Peel)  female  35.0      1   \n4                             Allen, Mr. William Henry    male  35.0      0   \n..                                                 ...     ...   ...    ...   \n886                              Montvila, Rev. Juozas    male  27.0      0   \n887                       Graham, Miss. Margaret Edith  female  19.0      0   \n888           Johnston, Miss. Catherine Helen \"Carrie\"  female   NaN      1   \n889                              Behr, Mr. Karl Howell    male  26.0      0   \n890                                Dooley, Mr. Patrick    male  32.0      0   \n\n     Parch            Ticket     Fare Cabin Embarked  \n0        0         A/5 21171   7.2500   NaN        S  \n1        0          PC 17599  71.2833   C85        C  \n2        0  STON/O2. 3101282   7.9250   NaN        S  \n3        0            113803  53.1000  C123        S  \n4        0            373450   8.0500   NaN        S  \n..     ...               ...      ...   ...      ...  \n886      0            211536  13.0000   NaN        S  \n887      0            112053  30.0000   B42        S  \n888      2        W./C. 6607  23.4500   NaN        S  \n889      0            111369  30.0000  C148        C  \n890      0            370376   7.7500   NaN        Q  \n\n[891 rows x 12 columns]>"
     },
     "execution_count": 81,
     "metadata": {},
     "output_type": "execute_result"
    }
   ],
   "source": [
    "df.info"
   ],
   "metadata": {
    "collapsed": false
   }
  },
  {
   "cell_type": "code",
   "execution_count": 82,
   "outputs": [
    {
     "data": {
      "text/plain": "       PassengerId    Survived      Pclass         Age       SibSp  \\\ncount   891.000000  891.000000  891.000000  714.000000  891.000000   \nmean    446.000000    0.383838    2.308642   29.699118    0.523008   \nstd     257.353842    0.486592    0.836071   14.526497    1.102743   \nmin       1.000000    0.000000    1.000000    0.420000    0.000000   \n25%     223.500000    0.000000    2.000000   20.125000    0.000000   \n50%     446.000000    0.000000    3.000000   28.000000    0.000000   \n75%     668.500000    1.000000    3.000000   38.000000    1.000000   \nmax     891.000000    1.000000    3.000000   80.000000    8.000000   \n\n            Parch        Fare  \ncount  891.000000  891.000000  \nmean     0.381594   32.204208  \nstd      0.806057   49.693429  \nmin      0.000000    0.000000  \n25%      0.000000    7.910400  \n50%      0.000000   14.454200  \n75%      0.000000   31.000000  \nmax      6.000000  512.329200  ",
      "text/html": "<div>\n<style scoped>\n    .dataframe tbody tr th:only-of-type {\n        vertical-align: middle;\n    }\n\n    .dataframe tbody tr th {\n        vertical-align: top;\n    }\n\n    .dataframe thead th {\n        text-align: right;\n    }\n</style>\n<table border=\"1\" class=\"dataframe\">\n  <thead>\n    <tr style=\"text-align: right;\">\n      <th></th>\n      <th>PassengerId</th>\n      <th>Survived</th>\n      <th>Pclass</th>\n      <th>Age</th>\n      <th>SibSp</th>\n      <th>Parch</th>\n      <th>Fare</th>\n    </tr>\n  </thead>\n  <tbody>\n    <tr>\n      <th>count</th>\n      <td>891.000000</td>\n      <td>891.000000</td>\n      <td>891.000000</td>\n      <td>714.000000</td>\n      <td>891.000000</td>\n      <td>891.000000</td>\n      <td>891.000000</td>\n    </tr>\n    <tr>\n      <th>mean</th>\n      <td>446.000000</td>\n      <td>0.383838</td>\n      <td>2.308642</td>\n      <td>29.699118</td>\n      <td>0.523008</td>\n      <td>0.381594</td>\n      <td>32.204208</td>\n    </tr>\n    <tr>\n      <th>std</th>\n      <td>257.353842</td>\n      <td>0.486592</td>\n      <td>0.836071</td>\n      <td>14.526497</td>\n      <td>1.102743</td>\n      <td>0.806057</td>\n      <td>49.693429</td>\n    </tr>\n    <tr>\n      <th>min</th>\n      <td>1.000000</td>\n      <td>0.000000</td>\n      <td>1.000000</td>\n      <td>0.420000</td>\n      <td>0.000000</td>\n      <td>0.000000</td>\n      <td>0.000000</td>\n    </tr>\n    <tr>\n      <th>25%</th>\n      <td>223.500000</td>\n      <td>0.000000</td>\n      <td>2.000000</td>\n      <td>20.125000</td>\n      <td>0.000000</td>\n      <td>0.000000</td>\n      <td>7.910400</td>\n    </tr>\n    <tr>\n      <th>50%</th>\n      <td>446.000000</td>\n      <td>0.000000</td>\n      <td>3.000000</td>\n      <td>28.000000</td>\n      <td>0.000000</td>\n      <td>0.000000</td>\n      <td>14.454200</td>\n    </tr>\n    <tr>\n      <th>75%</th>\n      <td>668.500000</td>\n      <td>1.000000</td>\n      <td>3.000000</td>\n      <td>38.000000</td>\n      <td>1.000000</td>\n      <td>0.000000</td>\n      <td>31.000000</td>\n    </tr>\n    <tr>\n      <th>max</th>\n      <td>891.000000</td>\n      <td>1.000000</td>\n      <td>3.000000</td>\n      <td>80.000000</td>\n      <td>8.000000</td>\n      <td>6.000000</td>\n      <td>512.329200</td>\n    </tr>\n  </tbody>\n</table>\n</div>"
     },
     "execution_count": 82,
     "metadata": {},
     "output_type": "execute_result"
    }
   ],
   "source": [
    "df.describe()"
   ],
   "metadata": {
    "collapsed": false
   }
  },
  {
   "cell_type": "code",
   "execution_count": 87,
   "outputs": [],
   "source": [
    "age_mean_before = df['Age'].mean()"
   ],
   "metadata": {
    "collapsed": false
   }
  },
  {
   "cell_type": "code",
   "execution_count": 88,
   "outputs": [
    {
     "data": {
      "text/plain": "29.69911764705882"
     },
     "execution_count": 88,
     "metadata": {},
     "output_type": "execute_result"
    }
   ],
   "source": [
    "age_mean_before"
   ],
   "metadata": {
    "collapsed": false
   }
  },
  {
   "cell_type": "code",
   "execution_count": 90,
   "outputs": [],
   "source": [
    "df['Age'].fillna(age_mean_before, inplace=True)"
   ],
   "metadata": {
    "collapsed": false
   }
  },
  {
   "cell_type": "code",
   "execution_count": 91,
   "outputs": [
    {
     "data": {
      "text/plain": "29.69911764705882"
     },
     "execution_count": 91,
     "metadata": {},
     "output_type": "execute_result"
    }
   ],
   "source": [
    "df['Age'].mean()"
   ],
   "metadata": {
    "collapsed": false
   }
  },
  {
   "cell_type": "code",
   "execution_count": 97,
   "outputs": [
    {
     "data": {
      "text/plain": "   PassengerId  Survived  Pclass  \\\n0            1         0       3   \n2            3         1       3   \n3            4         1       1   \n\n                                           Name     Sex   Age  SibSp  Parch  \\\n0                       Braund, Mr. Owen Harris    male  22.0      1      0   \n2                        Heikkinen, Miss. Laina  female  26.0      0      0   \n3  Futrelle, Mrs. Jacques Heath (Lily May Peel)  female  35.0      1      0   \n\n             Ticket    Fare Cabin Embarked  \n0         A/5 21171   7.250   NaN        S  \n2  STON/O2. 3101282   7.925   NaN        S  \n3            113803  53.100  C123        S  ",
      "text/html": "<div>\n<style scoped>\n    .dataframe tbody tr th:only-of-type {\n        vertical-align: middle;\n    }\n\n    .dataframe tbody tr th {\n        vertical-align: top;\n    }\n\n    .dataframe thead th {\n        text-align: right;\n    }\n</style>\n<table border=\"1\" class=\"dataframe\">\n  <thead>\n    <tr style=\"text-align: right;\">\n      <th></th>\n      <th>PassengerId</th>\n      <th>Survived</th>\n      <th>Pclass</th>\n      <th>Name</th>\n      <th>Sex</th>\n      <th>Age</th>\n      <th>SibSp</th>\n      <th>Parch</th>\n      <th>Ticket</th>\n      <th>Fare</th>\n      <th>Cabin</th>\n      <th>Embarked</th>\n    </tr>\n  </thead>\n  <tbody>\n    <tr>\n      <th>0</th>\n      <td>1</td>\n      <td>0</td>\n      <td>3</td>\n      <td>Braund, Mr. Owen Harris</td>\n      <td>male</td>\n      <td>22.0</td>\n      <td>1</td>\n      <td>0</td>\n      <td>A/5 21171</td>\n      <td>7.250</td>\n      <td>NaN</td>\n      <td>S</td>\n    </tr>\n    <tr>\n      <th>2</th>\n      <td>3</td>\n      <td>1</td>\n      <td>3</td>\n      <td>Heikkinen, Miss. Laina</td>\n      <td>female</td>\n      <td>26.0</td>\n      <td>0</td>\n      <td>0</td>\n      <td>STON/O2. 3101282</td>\n      <td>7.925</td>\n      <td>NaN</td>\n      <td>S</td>\n    </tr>\n    <tr>\n      <th>3</th>\n      <td>4</td>\n      <td>1</td>\n      <td>1</td>\n      <td>Futrelle, Mrs. Jacques Heath (Lily May Peel)</td>\n      <td>female</td>\n      <td>35.0</td>\n      <td>1</td>\n      <td>0</td>\n      <td>113803</td>\n      <td>53.100</td>\n      <td>C123</td>\n      <td>S</td>\n    </tr>\n  </tbody>\n</table>\n</div>"
     },
     "execution_count": 97,
     "metadata": {},
     "output_type": "execute_result"
    }
   ],
   "source": [
    "df[df['Embarked'] =='S'][0:3]"
   ],
   "metadata": {
    "collapsed": false
   }
  },
  {
   "cell_type": "code",
   "execution_count": 92,
   "outputs": [
    {
     "data": {
      "text/plain": "S    644\nC    168\nQ     77\nName: Embarked, dtype: int64"
     },
     "execution_count": 92,
     "metadata": {},
     "output_type": "execute_result"
    }
   ],
   "source": [
    "df['Embarked'].value_counts()"
   ],
   "metadata": {
    "collapsed": false
   }
  },
  {
   "cell_type": "code",
   "execution_count": 94,
   "outputs": [
    {
     "data": {
      "text/plain": "[61, 829]"
     },
     "execution_count": 94,
     "metadata": {},
     "output_type": "execute_result"
    }
   ],
   "source": [
    "df[df['Embarked'].isnull()].index.tolist()"
   ],
   "metadata": {
    "collapsed": false
   }
  },
  {
   "cell_type": "code",
   "execution_count": 98,
   "outputs": [],
   "source": [
    "df['Embarked'].fillna('S', inplace =True)"
   ],
   "metadata": {
    "collapsed": false
   }
  },
  {
   "cell_type": "code",
   "execution_count": 100,
   "outputs": [
    {
     "data": {
      "text/plain": "0"
     },
     "execution_count": 100,
     "metadata": {},
     "output_type": "execute_result"
    }
   ],
   "source": [
    "df['Embarked'].isnull().sum()"
   ],
   "metadata": {
    "collapsed": false
   }
  },
  {
   "cell_type": "code",
   "execution_count": 101,
   "outputs": [],
   "source": [
    "# Exercise 1\n",
    "# Consider the following lists:\n",
    "\n",
    "lst1 = [1, 2, 3, 5, 8]\n",
    "lst2 = [8, 5, 3, 2, 1]"
   ],
   "metadata": {
    "collapsed": false
   }
  },
  {
   "cell_type": "code",
   "execution_count": 102,
   "outputs": [
    {
     "data": {
      "text/plain": "[1, 2, 3, 5, 8, 8, 5, 3, 2, 1]"
     },
     "execution_count": 102,
     "metadata": {},
     "output_type": "execute_result"
    }
   ],
   "source": [
    "lst3 = lst1 +lst2\n",
    "lst3"
   ],
   "metadata": {
    "collapsed": false
   }
  },
  {
   "cell_type": "code",
   "execution_count": 103,
   "outputs": [],
   "source": [
    "s1 = pd.Series(lst1)\n",
    "s2 = pd.Series(lst2)\n",
    "s3 = s1 + s2"
   ],
   "metadata": {
    "collapsed": false
   }
  },
  {
   "cell_type": "code",
   "execution_count": 104,
   "outputs": [
    {
     "data": {
      "text/plain": "0    9\n1    7\n2    6\n3    7\n4    9\ndtype: int64"
     },
     "execution_count": 104,
     "metadata": {},
     "output_type": "execute_result"
    }
   ],
   "source": [
    "s3"
   ],
   "metadata": {
    "collapsed": false
   }
  },
  {
   "cell_type": "code",
   "execution_count": 105,
   "outputs": [
    {
     "data": {
      "text/plain": "0   -7\n1   -3\n2    0\n3    3\n4    7\ndtype: int64"
     },
     "execution_count": 105,
     "metadata": {},
     "output_type": "execute_result"
    }
   ],
   "source": [
    "s1 - s2"
   ],
   "metadata": {
    "collapsed": false
   }
  },
  {
   "cell_type": "code",
   "execution_count": 106,
   "outputs": [
    {
     "data": {
      "text/plain": "0     8\n1    10\n2     9\n3    10\n4     8\ndtype: int64"
     },
     "execution_count": 106,
     "metadata": {},
     "output_type": "execute_result"
    }
   ],
   "source": [
    "s1 * s2"
   ],
   "metadata": {
    "collapsed": false
   }
  },
  {
   "cell_type": "code",
   "execution_count": 107,
   "outputs": [
    {
     "data": {
      "text/plain": "0    0.125\n1    0.400\n2    1.000\n3    2.500\n4    8.000\ndtype: float64"
     },
     "execution_count": 107,
     "metadata": {},
     "output_type": "execute_result"
    }
   ],
   "source": [
    "s1 / s2"
   ],
   "metadata": {
    "collapsed": false
   }
  },
  {
   "cell_type": "code",
   "execution_count": null,
   "outputs": [],
   "source": [],
   "metadata": {
    "collapsed": false
   }
  }
 ],
 "metadata": {
  "kernelspec": {
   "display_name": "Python 3",
   "language": "python",
   "name": "python3"
  },
  "language_info": {
   "codemirror_mode": {
    "name": "ipython",
    "version": 2
   },
   "file_extension": ".py",
   "mimetype": "text/x-python",
   "name": "python",
   "nbconvert_exporter": "python",
   "pygments_lexer": "ipython2",
   "version": "2.7.6"
  }
 },
 "nbformat": 4,
 "nbformat_minor": 0
}
